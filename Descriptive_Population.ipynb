{
 "cells": [
  {
   "cell_type": "code",
   "execution_count": 16,
   "id": "f2684312",
   "metadata": {},
   "outputs": [],
   "source": [
    "import numpy as np\n",
    "import pandas as pd\n",
    "import matplotlib.pyplot as plt\n",
    "import seaborn as sns\n",
    "\n",
    "from scipy import stats\n",
    "from sklearn.linear_model import LinearRegression"
   ]
  },
  {
   "cell_type": "code",
   "execution_count": 17,
   "id": "f3281183",
   "metadata": {},
   "outputs": [],
   "source": [
    "import warnings\n",
    "warnings.filterwarnings(\"ignore\")"
   ]
  },
  {
   "cell_type": "code",
   "execution_count": 18,
   "id": "a6aa5c96",
   "metadata": {},
   "outputs": [],
   "source": [
    "population_data = pd.read_csv('/Users/maheshg/Dropbox/Sample Datasets Kaggle/city_population.csv')"
   ]
  },
  {
   "cell_type": "code",
   "execution_count": 19,
   "id": "3d465b31",
   "metadata": {},
   "outputs": [
    {
     "data": {
      "text/plain": [
       "(64, 10)"
      ]
     },
     "execution_count": 19,
     "metadata": {},
     "output_type": "execute_result"
    }
   ],
   "source": [
    "population_data.shape"
   ]
  },
  {
   "cell_type": "code",
   "execution_count": 20,
   "id": "765d72f6",
   "metadata": {},
   "outputs": [
    {
     "data": {
      "text/plain": [
       "Index(['Name', 'Abbr.', 'Division', 'Established', 'Native', 'Area (km2)',\n",
       "       'Population_1991', 'Population_2001', 'Population_2011',\n",
       "       'Population_2022'],\n",
       "      dtype='object')"
      ]
     },
     "execution_count": 20,
     "metadata": {},
     "output_type": "execute_result"
    }
   ],
   "source": [
    "population_data.columns"
   ]
  },
  {
   "cell_type": "code",
   "execution_count": 21,
   "id": "10437fa7",
   "metadata": {},
   "outputs": [
    {
     "data": {
      "text/html": [
       "<div>\n",
       "<style scoped>\n",
       "    .dataframe tbody tr th:only-of-type {\n",
       "        vertical-align: middle;\n",
       "    }\n",
       "\n",
       "    .dataframe tbody tr th {\n",
       "        vertical-align: top;\n",
       "    }\n",
       "\n",
       "    .dataframe thead th {\n",
       "        text-align: right;\n",
       "    }\n",
       "</style>\n",
       "<table border=\"1\" class=\"dataframe\">\n",
       "  <thead>\n",
       "    <tr style=\"text-align: right;\">\n",
       "      <th></th>\n",
       "      <th>Name</th>\n",
       "      <th>Abbr.</th>\n",
       "      <th>Division</th>\n",
       "      <th>Established</th>\n",
       "      <th>Native</th>\n",
       "      <th>Area (km2)</th>\n",
       "      <th>Population_1991</th>\n",
       "      <th>Population_2001</th>\n",
       "      <th>Population_2011</th>\n",
       "      <th>Population_2022</th>\n",
       "    </tr>\n",
       "  </thead>\n",
       "  <tbody>\n",
       "    <tr>\n",
       "      <th>0</th>\n",
       "      <td>Barguna</td>\n",
       "      <td>BRG</td>\n",
       "      <td>Barisal</td>\n",
       "      <td>1984</td>\n",
       "      <td>বরগুনা জেলা</td>\n",
       "      <td>1831</td>\n",
       "      <td>805000</td>\n",
       "      <td>887376</td>\n",
       "      <td>927889</td>\n",
       "      <td>1035596</td>\n",
       "    </tr>\n",
       "    <tr>\n",
       "      <th>1</th>\n",
       "      <td>Barishal</td>\n",
       "      <td>BRS</td>\n",
       "      <td>Barisal</td>\n",
       "      <td>1797</td>\n",
       "      <td>বরিশাল জেলা</td>\n",
       "      <td>2785</td>\n",
       "      <td>2299000</td>\n",
       "      <td>2465249</td>\n",
       "      <td>2414729</td>\n",
       "      <td>2634203</td>\n",
       "    </tr>\n",
       "    <tr>\n",
       "      <th>2</th>\n",
       "      <td>Bhola</td>\n",
       "      <td>BHO</td>\n",
       "      <td>Barisal</td>\n",
       "      <td>1984</td>\n",
       "      <td>ভোলা জেলা</td>\n",
       "      <td>3403</td>\n",
       "      <td>1532000</td>\n",
       "      <td>1781043</td>\n",
       "      <td>1846351</td>\n",
       "      <td>1980452</td>\n",
       "    </tr>\n",
       "    <tr>\n",
       "      <th>3</th>\n",
       "      <td>Jhalokati</td>\n",
       "      <td>JHA</td>\n",
       "      <td>Barisal</td>\n",
       "      <td>1984</td>\n",
       "      <td>ঝালকাঠি জেলা</td>\n",
       "      <td>707</td>\n",
       "      <td>694000</td>\n",
       "      <td>726182</td>\n",
       "      <td>709914</td>\n",
       "      <td>677559</td>\n",
       "    </tr>\n",
       "    <tr>\n",
       "      <th>4</th>\n",
       "      <td>Patuakhali</td>\n",
       "      <td>PAT</td>\n",
       "      <td>Barisal</td>\n",
       "      <td>1969</td>\n",
       "      <td>পটুয়াখালী জেলা</td>\n",
       "      <td>3221</td>\n",
       "      <td>1323000</td>\n",
       "      <td>1527628</td>\n",
       "      <td>1596223</td>\n",
       "      <td>1770096</td>\n",
       "    </tr>\n",
       "    <tr>\n",
       "      <th>5</th>\n",
       "      <td>Pirojpur</td>\n",
       "      <td>PIR</td>\n",
       "      <td>Barisal</td>\n",
       "      <td>1984</td>\n",
       "      <td>পিরোজপুর জেলা</td>\n",
       "      <td>1278</td>\n",
       "      <td>1104000</td>\n",
       "      <td>1161548</td>\n",
       "      <td>1157215</td>\n",
       "      <td>1227915</td>\n",
       "    </tr>\n",
       "    <tr>\n",
       "      <th>6</th>\n",
       "      <td>Bandarban</td>\n",
       "      <td>BAN</td>\n",
       "      <td>Chattogram</td>\n",
       "      <td>1981</td>\n",
       "      <td>বান্দরবান জেলা</td>\n",
       "      <td>4496</td>\n",
       "      <td>246000</td>\n",
       "      <td>311741</td>\n",
       "      <td>404091</td>\n",
       "      <td>495252</td>\n",
       "    </tr>\n",
       "    <tr>\n",
       "      <th>7</th>\n",
       "      <td>Brahmanbaria</td>\n",
       "      <td>BBA</td>\n",
       "      <td>Chattogram</td>\n",
       "      <td>1984</td>\n",
       "      <td>ব্রাহ্মণবাড়ীয়া জেলা</td>\n",
       "      <td>1881</td>\n",
       "      <td>2268000</td>\n",
       "      <td>2509383</td>\n",
       "      <td>2953208</td>\n",
       "      <td>3403786</td>\n",
       "    </tr>\n",
       "    <tr>\n",
       "      <th>8</th>\n",
       "      <td>Chandpur</td>\n",
       "      <td>CHA</td>\n",
       "      <td>Chattogram</td>\n",
       "      <td>1984</td>\n",
       "      <td>চাঁদপুর জেলা</td>\n",
       "      <td>1645</td>\n",
       "      <td>2150000</td>\n",
       "      <td>2377088</td>\n",
       "      <td>2513838</td>\n",
       "      <td>2713247</td>\n",
       "    </tr>\n",
       "    <tr>\n",
       "      <th>9</th>\n",
       "      <td>Chattogram</td>\n",
       "      <td>CHI</td>\n",
       "      <td>Chattogram</td>\n",
       "      <td>1666</td>\n",
       "      <td>চট্টগ্রাম জেলা</td>\n",
       "      <td>5282</td>\n",
       "      <td>5744000</td>\n",
       "      <td>7009504</td>\n",
       "      <td>7913366</td>\n",
       "      <td>9439076</td>\n",
       "    </tr>\n",
       "  </tbody>\n",
       "</table>\n",
       "</div>"
      ],
      "text/plain": [
       "           Name Abbr.    Division  Established                 Native  \\\n",
       "0       Barguna   BRG     Barisal         1984            বরগুনা জেলা   \n",
       "1      Barishal   BRS     Barisal         1797            বরিশাল জেলা   \n",
       "2         Bhola   BHO     Barisal         1984              ভোলা জেলা   \n",
       "3     Jhalokati   JHA     Barisal         1984           ঝালকাঠি জেলা   \n",
       "4    Patuakhali   PAT     Barisal         1969        পটুয়াখালী জেলা   \n",
       "5      Pirojpur   PIR     Barisal         1984          পিরোজপুর জেলা   \n",
       "6     Bandarban   BAN  Chattogram         1981         বান্দরবান জেলা   \n",
       "7  Brahmanbaria   BBA  Chattogram         1984  ব্রাহ্মণবাড়ীয়া জেলা   \n",
       "8      Chandpur   CHA  Chattogram         1984           চাঁদপুর জেলা   \n",
       "9    Chattogram   CHI  Chattogram         1666         চট্টগ্রাম জেলা   \n",
       "\n",
       "   Area (km2)  Population_1991  Population_2001  Population_2011  \\\n",
       "0        1831           805000           887376           927889   \n",
       "1        2785          2299000          2465249          2414729   \n",
       "2        3403          1532000          1781043          1846351   \n",
       "3         707           694000           726182           709914   \n",
       "4        3221          1323000          1527628          1596223   \n",
       "5        1278          1104000          1161548          1157215   \n",
       "6        4496           246000           311741           404091   \n",
       "7        1881          2268000          2509383          2953208   \n",
       "8        1645          2150000          2377088          2513838   \n",
       "9        5282          5744000          7009504          7913366   \n",
       "\n",
       "   Population_2022  \n",
       "0          1035596  \n",
       "1          2634203  \n",
       "2          1980452  \n",
       "3           677559  \n",
       "4          1770096  \n",
       "5          1227915  \n",
       "6           495252  \n",
       "7          3403786  \n",
       "8          2713247  \n",
       "9          9439076  "
      ]
     },
     "execution_count": 21,
     "metadata": {},
     "output_type": "execute_result"
    }
   ],
   "source": [
    "population_data.head(n=10)"
   ]
  },
  {
   "cell_type": "code",
   "execution_count": 22,
   "id": "e97deb97",
   "metadata": {},
   "outputs": [
    {
     "name": "stdout",
     "output_type": "stream",
     "text": [
      "<class 'pandas.core.frame.DataFrame'>\n",
      "RangeIndex: 64 entries, 0 to 63\n",
      "Data columns (total 10 columns):\n",
      " #   Column           Non-Null Count  Dtype \n",
      "---  ------           --------------  ----- \n",
      " 0   Name             64 non-null     object\n",
      " 1   Abbr.            64 non-null     object\n",
      " 2   Division         64 non-null     object\n",
      " 3   Established      64 non-null     int64 \n",
      " 4   Native           64 non-null     object\n",
      " 5   Area (km2)       64 non-null     int64 \n",
      " 6   Population_1991  64 non-null     int64 \n",
      " 7   Population_2001  64 non-null     int64 \n",
      " 8   Population_2011  64 non-null     int64 \n",
      " 9   Population_2022  64 non-null     int64 \n",
      "dtypes: int64(6), object(4)\n",
      "memory usage: 5.1+ KB\n"
     ]
    }
   ],
   "source": [
    "population_data.info()"
   ]
  },
  {
   "cell_type": "code",
   "execution_count": 23,
   "id": "aa1b121c",
   "metadata": {},
   "outputs": [
    {
     "data": {
      "text/plain": [
       "Name               0\n",
       "Abbr.              0\n",
       "Division           0\n",
       "Established        0\n",
       "Native             0\n",
       "Area (km2)         0\n",
       "Population_1991    0\n",
       "Population_2001    0\n",
       "Population_2011    0\n",
       "Population_2022    0\n",
       "dtype: int64"
      ]
     },
     "execution_count": 23,
     "metadata": {},
     "output_type": "execute_result"
    }
   ],
   "source": [
    "population_data.isna().sum()"
   ]
  },
  {
   "cell_type": "code",
   "execution_count": 24,
   "id": "b9b59e96",
   "metadata": {},
   "outputs": [
    {
     "data": {
      "text/plain": [
       "Name               0\n",
       "Abbr.              0\n",
       "Division           0\n",
       "Established        0\n",
       "Native             0\n",
       "Area (km2)         0\n",
       "Population_1991    0\n",
       "Population_2001    0\n",
       "Population_2011    0\n",
       "Population_2022    0\n",
       "dtype: int64"
      ]
     },
     "execution_count": 24,
     "metadata": {},
     "output_type": "execute_result"
    }
   ],
   "source": [
    "population_data.isnull().sum()"
   ]
  },
  {
   "cell_type": "code",
   "execution_count": 25,
   "id": "9949bb96",
   "metadata": {},
   "outputs": [
    {
     "data": {
      "text/html": [
       "<div>\n",
       "<style scoped>\n",
       "    .dataframe tbody tr th:only-of-type {\n",
       "        vertical-align: middle;\n",
       "    }\n",
       "\n",
       "    .dataframe tbody tr th {\n",
       "        vertical-align: top;\n",
       "    }\n",
       "\n",
       "    .dataframe thead th {\n",
       "        text-align: right;\n",
       "    }\n",
       "</style>\n",
       "<table border=\"1\" class=\"dataframe\">\n",
       "  <thead>\n",
       "    <tr style=\"text-align: right;\">\n",
       "      <th></th>\n",
       "      <th>Established</th>\n",
       "      <th>Area (km2)</th>\n",
       "      <th>Population_1991</th>\n",
       "      <th>Population_2001</th>\n",
       "      <th>Population_2011</th>\n",
       "      <th>Population_2022</th>\n",
       "    </tr>\n",
       "  </thead>\n",
       "  <tbody>\n",
       "    <tr>\n",
       "      <th>count</th>\n",
       "      <td>64.000000</td>\n",
       "      <td>64.000000</td>\n",
       "      <td>6.400000e+01</td>\n",
       "      <td>6.400000e+01</td>\n",
       "      <td>6.400000e+01</td>\n",
       "      <td>6.400000e+01</td>\n",
       "    </tr>\n",
       "    <tr>\n",
       "      <th>mean</th>\n",
       "      <td>1937.703125</td>\n",
       "      <td>2306.000000</td>\n",
       "      <td>1.741500e+06</td>\n",
       "      <td>2.039416e+06</td>\n",
       "      <td>2.340193e+06</td>\n",
       "      <td>2.653577e+06</td>\n",
       "    </tr>\n",
       "    <tr>\n",
       "      <th>std</th>\n",
       "      <td>84.372884</td>\n",
       "      <td>1184.492899</td>\n",
       "      <td>1.086475e+06</td>\n",
       "      <td>1.415458e+06</td>\n",
       "      <td>1.811774e+06</td>\n",
       "      <td>2.203057e+06</td>\n",
       "    </tr>\n",
       "    <tr>\n",
       "      <th>min</th>\n",
       "      <td>1666.000000</td>\n",
       "      <td>684.000000</td>\n",
       "      <td>2.460000e+05</td>\n",
       "      <td>3.117410e+05</td>\n",
       "      <td>4.040910e+05</td>\n",
       "      <td>4.952520e+05</td>\n",
       "    </tr>\n",
       "    <tr>\n",
       "      <th>25%</th>\n",
       "      <td>1963.500000</td>\n",
       "      <td>1379.250000</td>\n",
       "      <td>1.102250e+06</td>\n",
       "      <td>1.213935e+06</td>\n",
       "      <td>1.283516e+06</td>\n",
       "      <td>1.430418e+06</td>\n",
       "    </tr>\n",
       "    <tr>\n",
       "      <th>50%</th>\n",
       "      <td>1984.000000</td>\n",
       "      <td>2084.000000</td>\n",
       "      <td>1.545500e+06</td>\n",
       "      <td>1.829092e+06</td>\n",
       "      <td>2.008954e+06</td>\n",
       "      <td>2.215752e+06</td>\n",
       "    </tr>\n",
       "    <tr>\n",
       "      <th>75%</th>\n",
       "      <td>1984.000000</td>\n",
       "      <td>2960.750000</td>\n",
       "      <td>2.160750e+06</td>\n",
       "      <td>2.474170e+06</td>\n",
       "      <td>2.745524e+06</td>\n",
       "      <td>3.020196e+06</td>\n",
       "    </tr>\n",
       "    <tr>\n",
       "      <th>max</th>\n",
       "      <td>1984.000000</td>\n",
       "      <td>6116.000000</td>\n",
       "      <td>6.164000e+06</td>\n",
       "      <td>9.151343e+06</td>\n",
       "      <td>1.251736e+07</td>\n",
       "      <td>1.521085e+07</td>\n",
       "    </tr>\n",
       "  </tbody>\n",
       "</table>\n",
       "</div>"
      ],
      "text/plain": [
       "       Established   Area (km2)  Population_1991  Population_2001  \\\n",
       "count    64.000000    64.000000     6.400000e+01     6.400000e+01   \n",
       "mean   1937.703125  2306.000000     1.741500e+06     2.039416e+06   \n",
       "std      84.372884  1184.492899     1.086475e+06     1.415458e+06   \n",
       "min    1666.000000   684.000000     2.460000e+05     3.117410e+05   \n",
       "25%    1963.500000  1379.250000     1.102250e+06     1.213935e+06   \n",
       "50%    1984.000000  2084.000000     1.545500e+06     1.829092e+06   \n",
       "75%    1984.000000  2960.750000     2.160750e+06     2.474170e+06   \n",
       "max    1984.000000  6116.000000     6.164000e+06     9.151343e+06   \n",
       "\n",
       "       Population_2011  Population_2022  \n",
       "count     6.400000e+01     6.400000e+01  \n",
       "mean      2.340193e+06     2.653577e+06  \n",
       "std       1.811774e+06     2.203057e+06  \n",
       "min       4.040910e+05     4.952520e+05  \n",
       "25%       1.283516e+06     1.430418e+06  \n",
       "50%       2.008954e+06     2.215752e+06  \n",
       "75%       2.745524e+06     3.020196e+06  \n",
       "max       1.251736e+07     1.521085e+07  "
      ]
     },
     "execution_count": 25,
     "metadata": {},
     "output_type": "execute_result"
    }
   ],
   "source": [
    "population_data.describe()"
   ]
  },
  {
   "cell_type": "code",
   "execution_count": 26,
   "id": "f1424a5e",
   "metadata": {},
   "outputs": [
    {
     "name": "stdout",
     "output_type": "stream",
     "text": [
      "<class 'pandas.core.frame.DataFrame'>\n",
      "RangeIndex: 64 entries, 0 to 63\n",
      "Data columns (total 10 columns):\n",
      " #   Column           Non-Null Count  Dtype \n",
      "---  ------           --------------  ----- \n",
      " 0   Name             64 non-null     object\n",
      " 1   Abbr.            64 non-null     object\n",
      " 2   Division         64 non-null     object\n",
      " 3   Established      64 non-null     int64 \n",
      " 4   Native           64 non-null     object\n",
      " 5   Area (km2)       64 non-null     int64 \n",
      " 6   Population_1991  64 non-null     int64 \n",
      " 7   Population_2001  64 non-null     int64 \n",
      " 8   Population_2011  64 non-null     int64 \n",
      " 9   Population_2022  64 non-null     int64 \n",
      "dtypes: int64(6), object(4)\n",
      "memory usage: 5.1+ KB\n"
     ]
    }
   ],
   "source": [
    "population_data.info()"
   ]
  },
  {
   "cell_type": "code",
   "execution_count": 30,
   "id": "e73c702f",
   "metadata": {},
   "outputs": [
    {
     "data": {
      "text/html": [
       "<div>\n",
       "<style scoped>\n",
       "    .dataframe tbody tr th:only-of-type {\n",
       "        vertical-align: middle;\n",
       "    }\n",
       "\n",
       "    .dataframe tbody tr th {\n",
       "        vertical-align: top;\n",
       "    }\n",
       "\n",
       "    .dataframe thead th {\n",
       "        text-align: right;\n",
       "    }\n",
       "</style>\n",
       "<table border=\"1\" class=\"dataframe\">\n",
       "  <thead>\n",
       "    <tr style=\"text-align: right;\">\n",
       "      <th></th>\n",
       "      <th>Name</th>\n",
       "      <th>Abbr.</th>\n",
       "      <th>Division</th>\n",
       "      <th>Native</th>\n",
       "    </tr>\n",
       "  </thead>\n",
       "  <tbody>\n",
       "    <tr>\n",
       "      <th>count</th>\n",
       "      <td>64</td>\n",
       "      <td>64</td>\n",
       "      <td>64</td>\n",
       "      <td>64</td>\n",
       "    </tr>\n",
       "    <tr>\n",
       "      <th>unique</th>\n",
       "      <td>64</td>\n",
       "      <td>64</td>\n",
       "      <td>8</td>\n",
       "      <td>64</td>\n",
       "    </tr>\n",
       "    <tr>\n",
       "      <th>top</th>\n",
       "      <td>Barguna</td>\n",
       "      <td>BRG</td>\n",
       "      <td>Dhaka</td>\n",
       "      <td>বরগুনা জেলা</td>\n",
       "    </tr>\n",
       "    <tr>\n",
       "      <th>freq</th>\n",
       "      <td>1</td>\n",
       "      <td>1</td>\n",
       "      <td>13</td>\n",
       "      <td>1</td>\n",
       "    </tr>\n",
       "  </tbody>\n",
       "</table>\n",
       "</div>"
      ],
      "text/plain": [
       "           Name Abbr. Division       Native\n",
       "count        64    64       64           64\n",
       "unique       64    64        8           64\n",
       "top     Barguna   BRG    Dhaka  বরগুনা জেলা\n",
       "freq          1     1       13            1"
      ]
     },
     "execution_count": 30,
     "metadata": {},
     "output_type": "execute_result"
    }
   ],
   "source": [
    "population_data.describe(include='object')"
   ]
  },
  {
   "cell_type": "markdown",
   "id": "86837ffb",
   "metadata": {},
   "source": [
    "Performing Central Tendency (Mean, Median and Mode)"
   ]
  },
  {
   "cell_type": "code",
   "execution_count": 32,
   "id": "0ab4f64a",
   "metadata": {},
   "outputs": [
    {
     "name": "stdout",
     "output_type": "stream",
     "text": [
      "Mean Population in 1991: 1741500.0\n"
     ]
    }
   ],
   "source": [
    "mean_population = population_data['Population_1991'].mean()\n",
    "print(f\"Mean Population in 1991: {mean_population}\")"
   ]
  },
  {
   "cell_type": "code",
   "execution_count": 34,
   "id": "81dc98eb",
   "metadata": {},
   "outputs": [
    {
     "name": "stdout",
     "output_type": "stream",
     "text": [
      "Mean Population in 2001: 2039415.59375\n"
     ]
    }
   ],
   "source": [
    "mean_population = population_data['Population_2001'].mean()\n",
    "print(f\"Mean Population in 2001: {mean_population}\")"
   ]
  },
  {
   "cell_type": "code",
   "execution_count": 35,
   "id": "5f1f739c",
   "metadata": {},
   "outputs": [
    {
     "name": "stdout",
     "output_type": "stream",
     "text": [
      "Mean Population in 2011: 2340193.0\n"
     ]
    }
   ],
   "source": [
    "mean_population = population_data['Population_2011'].mean()\n",
    "print(f\"Mean Population in 2011: {mean_population}\")"
   ]
  },
  {
   "cell_type": "code",
   "execution_count": 36,
   "id": "7cdc8eae",
   "metadata": {},
   "outputs": [
    {
     "name": "stdout",
     "output_type": "stream",
     "text": [
      "Mean Population in 2022: 2653576.765625\n"
     ]
    }
   ],
   "source": [
    "mean_population = population_data['Population_2022'].mean()\n",
    "print(f\"Mean Population in 2022: {mean_population}\")"
   ]
  },
  {
   "cell_type": "code",
   "execution_count": 37,
   "id": "4dca504a",
   "metadata": {},
   "outputs": [
    {
     "name": "stdout",
     "output_type": "stream",
     "text": [
      "Median Population in 1991: 1545500.0\n"
     ]
    }
   ],
   "source": [
    "median_population = population_data['Population_1991'].median()\n",
    "print(f\"Median Population in 1991: {median_population}\") "
   ]
  },
  {
   "cell_type": "code",
   "execution_count": 38,
   "id": "676bd441",
   "metadata": {},
   "outputs": [
    {
     "name": "stdout",
     "output_type": "stream",
     "text": [
      "Median Population in 2001: 1829092.5\n"
     ]
    }
   ],
   "source": [
    "median_population = population_data['Population_2001'].median()\n",
    "print(f\"Median Population in 2001: {median_population}\")"
   ]
  },
  {
   "cell_type": "code",
   "execution_count": 39,
   "id": "8ddf1300",
   "metadata": {},
   "outputs": [
    {
     "name": "stdout",
     "output_type": "stream",
     "text": [
      "Median Population in 2011: 2008954.5\n"
     ]
    }
   ],
   "source": [
    "median_population = population_data['Population_2011'].median()\n",
    "print(f\"Median Population in 2011: {median_population}\")"
   ]
  },
  {
   "cell_type": "code",
   "execution_count": 40,
   "id": "ec3a5222",
   "metadata": {},
   "outputs": [
    {
     "name": "stdout",
     "output_type": "stream",
     "text": [
      "Median Population in 2022: 2215751.5\n"
     ]
    }
   ],
   "source": [
    "median_population = population_data['Population_2022'].median()\n",
    "print(f\"Median Population in 2022: {median_population}\")"
   ]
  },
  {
   "cell_type": "code",
   "execution_count": 45,
   "id": "f1f60c04",
   "metadata": {},
   "outputs": [
    {
     "name": "stdout",
     "output_type": "stream",
     "text": [
      "Mode Population in 1991: 246000\n"
     ]
    }
   ],
   "source": [
    "mode_population = population_data['Population_1991'].mode()\n",
    "print(f\"Mode Population in 1991: {mode_population[0]}\")"
   ]
  },
  {
   "cell_type": "code",
   "execution_count": 46,
   "id": "26416b8a",
   "metadata": {},
   "outputs": [
    {
     "name": "stdout",
     "output_type": "stream",
     "text": [
      "Mode Population in 2001: 311741\n"
     ]
    }
   ],
   "source": [
    "mode_population = population_data['Population_2001'].mode()[0]\n",
    "print(f\"Mode Population in 2001: {mode_population}\")"
   ]
  },
  {
   "cell_type": "code",
   "execution_count": 47,
   "id": "93305ce6",
   "metadata": {},
   "outputs": [
    {
     "name": "stdout",
     "output_type": "stream",
     "text": [
      "Mode Population in 2011: 404091\n"
     ]
    }
   ],
   "source": [
    "mode_population = population_data['Population_2011'].mode()[0]\n",
    "print(f\"Mode Population in 2011: {mode_population}\")"
   ]
  },
  {
   "cell_type": "code",
   "execution_count": 48,
   "id": "7af6d707",
   "metadata": {},
   "outputs": [
    {
     "name": "stdout",
     "output_type": "stream",
     "text": [
      "Mode Population in 2022: 495252\n"
     ]
    }
   ],
   "source": [
    "mode_population = population_data['Population_2022'].mode()[0]\n",
    "print(f\"Mode Population in 2022: {mode_population}\")"
   ]
  },
  {
   "cell_type": "code",
   "execution_count": 49,
   "id": "9f97c8ca",
   "metadata": {},
   "outputs": [
    {
     "data": {
      "image/png": "[encoded data removed]",
      "text/plain": [
       "<Figure size 1200x1000 with 4 Axes>"
      ]
     },
     "metadata": {},
     "output_type": "display_data"
    }
   ],
   "source": [
    "fig, axes = plt.subplots(2, 2, figsize=(12, 10))\n",
    "years = ['Population_1991', 'Population_2001', 'Population_2011', 'Population_2022']\n",
    "for ax, year in zip(axes.flatten(), years):\n",
    "    sns.histplot(population_data[year], bins=15, kde=True, ax=ax)\n",
    "    ax.set_title(f'Histogram of {year}')\n",
    "    ax.set_xlabel('Population')\n",
    "    ax.set_ylabel('Frequency')\n",
    "plt.tight_layout()\n",
    "plt.show()"
   ]
  },
  {
   "cell_type": "code",
   "execution_count": null,
   "id": "e9a76b89",
   "metadata": {},
   "outputs": [],
   "source": []
  }
 ],
 "metadata": {
  "kernelspec": {
   "display_name": "study (3.9.16)",
   "language": "python",
   "name": "python3"
  },
  "language_info": {
   "codemirror_mode": {
    "name": "ipython",
    "version": 3
   },
   "file_extension": ".py",
   "mimetype": "text/x-python",
   "name": "python",
   "nbconvert_exporter": "python",
   "pygments_lexer": "ipython3",
   "version": "3.9.16"
  }
 },
 "nbformat": 4,
 "nbformat_minor": 5
}
