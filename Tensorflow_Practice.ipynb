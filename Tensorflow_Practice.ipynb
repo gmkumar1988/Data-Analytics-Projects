{
 "cells": [
  {
   "cell_type": "code",
   "execution_count": null,
   "id": "94f26504",
   "metadata": {},
   "outputs": [],
   "source": [
    "import tensorflow as tf\n",
    "import numpy as np"
   ]
  },
  {
   "cell_type": "code",
   "execution_count": null,
   "id": "b1c339e3",
   "metadata": {},
   "outputs": [],
   "source": [
    "const1 = tf.constant([1,2,3],[1,2,3])\n",
    "const2 = tf.constant([3,4,5],[3,4,5])"
   ]
  },
  {
   "cell_type": "code",
   "execution_count": null,
   "id": "abe15697",
   "metadata": {},
   "outputs": [],
   "source": []
  }
 ],
 "metadata": {
  "kernelspec": {
   "display_name": "study (3.9.16)",
   "language": "python",
   "name": "python3"
  },
  "language_info": {
   "codemirror_mode": {
    "name": "ipython",
    "version": 3
   },
   "file_extension": ".py",
   "mimetype": "text/x-python",
   "name": "python",
   "nbconvert_exporter": "python",
   "pygments_lexer": "ipython3",
   "version": "3.9.16"
  }
 },
 "nbformat": 4,
 "nbformat_minor": 5
}
