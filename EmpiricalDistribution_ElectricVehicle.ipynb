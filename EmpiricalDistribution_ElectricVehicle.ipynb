{
 "cells": [
  {
   "cell_type": "code",
   "execution_count": 4,
   "metadata": {},
   "outputs": [],
   "source": [
    "import numpy as np\n",
    "import pandas as pd\n",
    "import matplotlib as plt\n",
    "import seaborn as sns\n"
   ]
  },
  {
   "cell_type": "code",
   "execution_count": 5,
   "metadata": {},
   "outputs": [],
   "source": [
    "ev_dataset = pd.read_csv('/Users/maheshg/Dropbox/Sample Datasets Kaggle/Electric_Vehicle_Population_Data.csv')"
   ]
  },
  {
   "cell_type": "code",
   "execution_count": 16,
   "metadata": {},
   "outputs": [
    {
     "data": {
      "text/html": [
       "<div>\n",
       "<style scoped>\n",
       "    .dataframe tbody tr th:only-of-type {\n",
       "        vertical-align: middle;\n",
       "    }\n",
       "\n",
       "    .dataframe tbody tr th {\n",
       "        vertical-align: top;\n",
       "    }\n",
       "\n",
       "    .dataframe thead th {\n",
       "        text-align: right;\n",
       "    }\n",
       "</style>\n",
       "<table border=\"1\" class=\"dataframe\">\n",
       "  <thead>\n",
       "    <tr style=\"text-align: right;\">\n",
       "      <th></th>\n",
       "      <th>Postal Code</th>\n",
       "      <th>Model Year</th>\n",
       "      <th>Electric Range</th>\n",
       "      <th>Base MSRP</th>\n",
       "      <th>Legislative District</th>\n",
       "      <th>DOL Vehicle ID</th>\n",
       "      <th>2020 Census Tract</th>\n",
       "    </tr>\n",
       "  </thead>\n",
       "  <tbody>\n",
       "    <tr>\n",
       "      <th>count</th>\n",
       "      <td>186876.000000</td>\n",
       "      <td>186879.000000</td>\n",
       "      <td>186879.000000</td>\n",
       "      <td>186879.000000</td>\n",
       "      <td>186476.000000</td>\n",
       "      <td>1.868790e+05</td>\n",
       "      <td>1.868760e+05</td>\n",
       "    </tr>\n",
       "    <tr>\n",
       "      <th>mean</th>\n",
       "      <td>98177.500144</td>\n",
       "      <td>2020.659614</td>\n",
       "      <td>56.707790</td>\n",
       "      <td>1011.918487</td>\n",
       "      <td>29.069012</td>\n",
       "      <td>2.225627e+08</td>\n",
       "      <td>5.297773e+10</td>\n",
       "    </tr>\n",
       "    <tr>\n",
       "      <th>std</th>\n",
       "      <td>2374.643395</td>\n",
       "      <td>2.991398</td>\n",
       "      <td>90.788807</td>\n",
       "      <td>8115.767740</td>\n",
       "      <td>14.900971</td>\n",
       "      <td>7.463672e+07</td>\n",
       "      <td>1.570887e+09</td>\n",
       "    </tr>\n",
       "    <tr>\n",
       "      <th>min</th>\n",
       "      <td>1731.000000</td>\n",
       "      <td>1997.000000</td>\n",
       "      <td>0.000000</td>\n",
       "      <td>0.000000</td>\n",
       "      <td>1.000000</td>\n",
       "      <td>4.385000e+03</td>\n",
       "      <td>1.001020e+09</td>\n",
       "    </tr>\n",
       "    <tr>\n",
       "      <th>25%</th>\n",
       "      <td>98052.000000</td>\n",
       "      <td>2019.000000</td>\n",
       "      <td>0.000000</td>\n",
       "      <td>0.000000</td>\n",
       "      <td>18.000000</td>\n",
       "      <td>1.850864e+08</td>\n",
       "      <td>5.303301e+10</td>\n",
       "    </tr>\n",
       "    <tr>\n",
       "      <th>50%</th>\n",
       "      <td>98122.000000</td>\n",
       "      <td>2022.000000</td>\n",
       "      <td>0.000000</td>\n",
       "      <td>0.000000</td>\n",
       "      <td>33.000000</td>\n",
       "      <td>2.302081e+08</td>\n",
       "      <td>5.303303e+10</td>\n",
       "    </tr>\n",
       "    <tr>\n",
       "      <th>75%</th>\n",
       "      <td>98371.000000</td>\n",
       "      <td>2023.000000</td>\n",
       "      <td>73.000000</td>\n",
       "      <td>0.000000</td>\n",
       "      <td>42.000000</td>\n",
       "      <td>2.577993e+08</td>\n",
       "      <td>5.305307e+10</td>\n",
       "    </tr>\n",
       "    <tr>\n",
       "      <th>max</th>\n",
       "      <td>99577.000000</td>\n",
       "      <td>2024.000000</td>\n",
       "      <td>337.000000</td>\n",
       "      <td>845000.000000</td>\n",
       "      <td>49.000000</td>\n",
       "      <td>4.792548e+08</td>\n",
       "      <td>5.603300e+10</td>\n",
       "    </tr>\n",
       "  </tbody>\n",
       "</table>\n",
       "</div>"
      ],
      "text/plain": [
       "         Postal Code     Model Year  ...  DOL Vehicle ID  2020 Census Tract\n",
       "count  186876.000000  186879.000000  ...    1.868790e+05       1.868760e+05\n",
       "mean    98177.500144    2020.659614  ...    2.225627e+08       5.297773e+10\n",
       "std      2374.643395       2.991398  ...    7.463672e+07       1.570887e+09\n",
       "min      1731.000000    1997.000000  ...    4.385000e+03       1.001020e+09\n",
       "25%     98052.000000    2019.000000  ...    1.850864e+08       5.303301e+10\n",
       "50%     98122.000000    2022.000000  ...    2.302081e+08       5.303303e+10\n",
       "75%     98371.000000    2023.000000  ...    2.577993e+08       5.305307e+10\n",
       "max     99577.000000    2024.000000  ...    4.792548e+08       5.603300e+10\n",
       "\n",
       "[8 rows x 7 columns]"
      ]
     },
     "execution_count": 16,
     "metadata": {},
     "output_type": "execute_result"
    }
   ],
   "source": [
    "ev_dataset.describe()"
   ]
  },
  {
   "cell_type": "code",
   "execution_count": 10,
   "metadata": {},
   "outputs": [
    {
     "data": {
      "text/html": [
       "<div>\n",
       "<style scoped>\n",
       "    .dataframe tbody tr th:only-of-type {\n",
       "        vertical-align: middle;\n",
       "    }\n",
       "\n",
       "    .dataframe tbody tr th {\n",
       "        vertical-align: top;\n",
       "    }\n",
       "\n",
       "    .dataframe thead th {\n",
       "        text-align: right;\n",
       "    }\n",
       "</style>\n",
       "<table border=\"1\" class=\"dataframe\">\n",
       "  <thead>\n",
       "    <tr style=\"text-align: right;\">\n",
       "      <th></th>\n",
       "      <th>VIN (1-10)</th>\n",
       "      <th>County</th>\n",
       "      <th>City</th>\n",
       "      <th>State</th>\n",
       "      <th>Postal Code</th>\n",
       "      <th>Model Year</th>\n",
       "      <th>Make</th>\n",
       "      <th>Model</th>\n",
       "      <th>Electric Vehicle Type</th>\n",
       "      <th>Clean Alternative Fuel Vehicle (CAFV) Eligibility</th>\n",
       "      <th>Electric Range</th>\n",
       "      <th>Base MSRP</th>\n",
       "      <th>Legislative District</th>\n",
       "      <th>DOL Vehicle ID</th>\n",
       "      <th>Vehicle Location</th>\n",
       "      <th>Electric Utility</th>\n",
       "      <th>2020 Census Tract</th>\n",
       "    </tr>\n",
       "  </thead>\n",
       "  <tbody>\n",
       "    <tr>\n",
       "      <th>0</th>\n",
       "      <td>WBY8P6C58K</td>\n",
       "      <td>King</td>\n",
       "      <td>Seattle</td>\n",
       "      <td>WA</td>\n",
       "      <td>98115.0</td>\n",
       "      <td>2019</td>\n",
       "      <td>BMW</td>\n",
       "      <td>I3</td>\n",
       "      <td>Battery Electric Vehicle (BEV)</td>\n",
       "      <td>Clean Alternative Fuel Vehicle Eligible</td>\n",
       "      <td>153</td>\n",
       "      <td>0</td>\n",
       "      <td>43.0</td>\n",
       "      <td>259254397</td>\n",
       "      <td>POINT (-122.3008235 47.6862671)</td>\n",
       "      <td>CITY OF SEATTLE - (WA)|CITY OF TACOMA - (WA)</td>\n",
       "      <td>5.303300e+10</td>\n",
       "    </tr>\n",
       "    <tr>\n",
       "      <th>1</th>\n",
       "      <td>5YJSA1DN4D</td>\n",
       "      <td>Kitsap</td>\n",
       "      <td>Bremerton</td>\n",
       "      <td>WA</td>\n",
       "      <td>98312.0</td>\n",
       "      <td>2013</td>\n",
       "      <td>TESLA</td>\n",
       "      <td>MODEL S</td>\n",
       "      <td>Battery Electric Vehicle (BEV)</td>\n",
       "      <td>Clean Alternative Fuel Vehicle Eligible</td>\n",
       "      <td>208</td>\n",
       "      <td>69900</td>\n",
       "      <td>35.0</td>\n",
       "      <td>127420940</td>\n",
       "      <td>POINT (-122.6961203 47.5759584)</td>\n",
       "      <td>PUGET SOUND ENERGY INC</td>\n",
       "      <td>5.303508e+10</td>\n",
       "    </tr>\n",
       "    <tr>\n",
       "      <th>2</th>\n",
       "      <td>5YJSA1E26J</td>\n",
       "      <td>King</td>\n",
       "      <td>Kent</td>\n",
       "      <td>WA</td>\n",
       "      <td>98042.0</td>\n",
       "      <td>2018</td>\n",
       "      <td>TESLA</td>\n",
       "      <td>MODEL S</td>\n",
       "      <td>Battery Electric Vehicle (BEV)</td>\n",
       "      <td>Clean Alternative Fuel Vehicle Eligible</td>\n",
       "      <td>249</td>\n",
       "      <td>0</td>\n",
       "      <td>47.0</td>\n",
       "      <td>170287183</td>\n",
       "      <td>POINT (-122.1145138 47.3581107)</td>\n",
       "      <td>PUGET SOUND ENERGY INC||CITY OF TACOMA - (WA)</td>\n",
       "      <td>5.303303e+10</td>\n",
       "    </tr>\n",
       "    <tr>\n",
       "      <th>3</th>\n",
       "      <td>WBY2Z2C54E</td>\n",
       "      <td>King</td>\n",
       "      <td>Bellevue</td>\n",
       "      <td>WA</td>\n",
       "      <td>98004.0</td>\n",
       "      <td>2014</td>\n",
       "      <td>BMW</td>\n",
       "      <td>I8</td>\n",
       "      <td>Plug-in Hybrid Electric Vehicle (PHEV)</td>\n",
       "      <td>Not eligible due to low battery range</td>\n",
       "      <td>14</td>\n",
       "      <td>0</td>\n",
       "      <td>41.0</td>\n",
       "      <td>205545868</td>\n",
       "      <td>POINT (-122.202397 47.619252)</td>\n",
       "      <td>PUGET SOUND ENERGY INC||CITY OF TACOMA - (WA)</td>\n",
       "      <td>5.303302e+10</td>\n",
       "    </tr>\n",
       "    <tr>\n",
       "      <th>4</th>\n",
       "      <td>5YJXCDE23J</td>\n",
       "      <td>King</td>\n",
       "      <td>Bellevue</td>\n",
       "      <td>WA</td>\n",
       "      <td>98004.0</td>\n",
       "      <td>2018</td>\n",
       "      <td>TESLA</td>\n",
       "      <td>MODEL X</td>\n",
       "      <td>Battery Electric Vehicle (BEV)</td>\n",
       "      <td>Clean Alternative Fuel Vehicle Eligible</td>\n",
       "      <td>238</td>\n",
       "      <td>0</td>\n",
       "      <td>41.0</td>\n",
       "      <td>237977386</td>\n",
       "      <td>POINT (-122.202397 47.619252)</td>\n",
       "      <td>PUGET SOUND ENERGY INC||CITY OF TACOMA - (WA)</td>\n",
       "      <td>5.303302e+10</td>\n",
       "    </tr>\n",
       "  </tbody>\n",
       "</table>\n",
       "</div>"
      ],
      "text/plain": [
       "   VIN (1-10)  County       City State  Postal Code  Model Year   Make  \\\n",
       "0  WBY8P6C58K    King    Seattle    WA      98115.0        2019    BMW   \n",
       "1  5YJSA1DN4D  Kitsap  Bremerton    WA      98312.0        2013  TESLA   \n",
       "2  5YJSA1E26J    King       Kent    WA      98042.0        2018  TESLA   \n",
       "3  WBY2Z2C54E    King   Bellevue    WA      98004.0        2014    BMW   \n",
       "4  5YJXCDE23J    King   Bellevue    WA      98004.0        2018  TESLA   \n",
       "\n",
       "     Model                   Electric Vehicle Type  \\\n",
       "0       I3          Battery Electric Vehicle (BEV)   \n",
       "1  MODEL S          Battery Electric Vehicle (BEV)   \n",
       "2  MODEL S          Battery Electric Vehicle (BEV)   \n",
       "3       I8  Plug-in Hybrid Electric Vehicle (PHEV)   \n",
       "4  MODEL X          Battery Electric Vehicle (BEV)   \n",
       "\n",
       "  Clean Alternative Fuel Vehicle (CAFV) Eligibility  Electric Range  \\\n",
       "0           Clean Alternative Fuel Vehicle Eligible             153   \n",
       "1           Clean Alternative Fuel Vehicle Eligible             208   \n",
       "2           Clean Alternative Fuel Vehicle Eligible             249   \n",
       "3             Not eligible due to low battery range              14   \n",
       "4           Clean Alternative Fuel Vehicle Eligible             238   \n",
       "\n",
       "   Base MSRP  Legislative District  DOL Vehicle ID  \\\n",
       "0          0                  43.0       259254397   \n",
       "1      69900                  35.0       127420940   \n",
       "2          0                  47.0       170287183   \n",
       "3          0                  41.0       205545868   \n",
       "4          0                  41.0       237977386   \n",
       "\n",
       "                  Vehicle Location  \\\n",
       "0  POINT (-122.3008235 47.6862671)   \n",
       "1  POINT (-122.6961203 47.5759584)   \n",
       "2  POINT (-122.1145138 47.3581107)   \n",
       "3    POINT (-122.202397 47.619252)   \n",
       "4    POINT (-122.202397 47.619252)   \n",
       "\n",
       "                                Electric Utility  2020 Census Tract  \n",
       "0   CITY OF SEATTLE - (WA)|CITY OF TACOMA - (WA)       5.303300e+10  \n",
       "1                         PUGET SOUND ENERGY INC       5.303508e+10  \n",
       "2  PUGET SOUND ENERGY INC||CITY OF TACOMA - (WA)       5.303303e+10  \n",
       "3  PUGET SOUND ENERGY INC||CITY OF TACOMA - (WA)       5.303302e+10  \n",
       "4  PUGET SOUND ENERGY INC||CITY OF TACOMA - (WA)       5.303302e+10  "
      ]
     },
     "execution_count": 10,
     "metadata": {},
     "output_type": "execute_result"
    }
   ],
   "source": [
    "ev_dataset.head()"
   ]
  },
  {
   "cell_type": "code",
   "execution_count": 7,
   "metadata": {},
   "outputs": [],
   "source": [
    "ev_dataset['2020 Census Tract'] = ev_dataset['2020 Census Tract'].astype(float)"
   ]
  },
  {
   "cell_type": "code",
   "execution_count": 8,
   "metadata": {},
   "outputs": [
    {
     "data": {
      "text/plain": [
       "Index(['VIN (1-10)', 'County', 'City', 'State', 'Postal Code', 'Model Year',\n",
       "       'Make', 'Model', 'Electric Vehicle Type',\n",
       "       'Clean Alternative Fuel Vehicle (CAFV) Eligibility', 'Electric Range',\n",
       "       'Base MSRP', 'Legislative District', 'DOL Vehicle ID',\n",
       "       'Vehicle Location', 'Electric Utility', '2020 Census Tract'],\n",
       "      dtype='object')"
      ]
     },
     "execution_count": 8,
     "metadata": {},
     "output_type": "execute_result"
    }
   ],
   "source": [
    "ev_dataset.columns"
   ]
  },
  {
   "cell_type": "code",
   "execution_count": 9,
   "metadata": {},
   "outputs": [],
   "source": [
    "#Generate the population mean : \n",
    "mu = np.mean(ev_dataset['DOL Vehicle ID'])\n",
    "#Generate the standard deviation of the population : \n",
    "sd = np.std(ev_dataset['DOL Vehicle ID'])"
   ]
  },
  {
   "cell_type": "code",
   "execution_count": 10,
   "metadata": {},
   "outputs": [],
   "source": [
    "#Generating large set of observations from the overall population: \n",
    "observations_ev_vehicle = np.random.normal(mu,sd, size=100000)"
   ]
  },
  {
   "cell_type": "code",
   "execution_count": 11,
   "metadata": {},
   "outputs": [],
   "source": [
    "observations_ev_vehicle = observations_ev_vehicle.astype(float).astype(int)"
   ]
  },
  {
   "cell_type": "code",
   "execution_count": 12,
   "metadata": {},
   "outputs": [
    {
     "data": {
      "text/plain": [
       "dtype('int64')"
      ]
     },
     "execution_count": 12,
     "metadata": {},
     "output_type": "execute_result"
    }
   ],
   "source": [
    "observations_ev_vehicle.dtype"
   ]
  },
  {
   "cell_type": "code",
   "execution_count": 18,
   "metadata": {},
   "outputs": [
    {
     "data": {
      "text/plain": [
       "<matplotlib.lines.Line2D at 0x7fa0e00e9190>"
      ]
     },
     "execution_count": 18,
     "metadata": {},
     "output_type": "execute_result"
    },
    {
     "data": {
      "image/png": "[encoded data removed]",
      "text/plain": [
       "<Figure size 500x500 with 1 Axes>"
      ]
     },
     "metadata": {},
     "output_type": "display_data"
    }
   ],
   "source": [
    "sns.displot(observations_ev_vehicle)\n",
    "\n",
    "plt.axvline(np.mean(observations_ev_vehicle) + np.std(observations_ev_vehicle), color = \"g\")\n",
    "plt.axvline(np.mean(observations_ev_vehicle) - np.std(observations_ev_vehicle), color = \"g\")\n",
    "\n",
    "plt.axvline(np.mean(observations_ev_vehicle) + np.std(observations_ev_vehicle) * 2, color = \"y\")\n",
    "plt.axvline(np.mean(observations_ev_vehicle) - np.std(observations_ev_vehicle) * 2, color = \"y\")\n"
   ]
  },
  {
   "cell_type": "code",
   "execution_count": 13,
   "metadata": {},
   "outputs": [
    {
     "data": {
      "text/plain": [
       "count    1.000000e+05\n",
       "mean     2.221908e+08\n",
       "std      7.439265e+07\n",
       "min     -8.500428e+07\n",
       "25%      1.717247e+08\n",
       "50%      2.221612e+08\n",
       "75%      2.726240e+08\n",
       "max      5.461218e+08\n",
       "dtype: float64"
      ]
     },
     "execution_count": 13,
     "metadata": {},
     "output_type": "execute_result"
    }
   ],
   "source": [
    "pd.Series(observations_ev_vehicle).describe()"
   ]
  },
  {
   "cell_type": "code",
   "execution_count": 19,
   "metadata": {},
   "outputs": [],
   "source": [
    "#Taking the 3 samples of EV Observations : \n",
    "Sample_A = np.random.choice(observations_ev_vehicle,400) \n",
    "Sample_B = np.random.choice(observations_ev_vehicle,400)\n",
    "Sample_C = np.random.choice(observations_ev_vehicle,400)"
   ]
  },
  {
   "cell_type": "code",
   "execution_count": 15,
   "metadata": {},
   "outputs": [
    {
     "data": {
      "text/plain": [
       "<matplotlib.lines.Line2D at 0x7fa122520970>"
      ]
     },
     "execution_count": 15,
     "metadata": {},
     "output_type": "execute_result"
    },
    {
     "data": {
      "image/png": "[encoded data removed]",
      "text/plain": [
       "<Figure size 640x480 with 1 Axes>"
      ]
     },
     "metadata": {},
     "output_type": "display_data"
    }
   ],
   "source": [
    "from statsmodels.distributions.empirical_distribution import ECDF\n",
    "import matplotlib.pyplot as plt\n",
    "\n",
    "ecdf = ECDF(observations_ev_vehicle)\n",
    "\n",
    "plt.plot(ecdf.x, ecdf.y)\n",
    "\n",
    "plt.axhline(y = 0.025, color = 'y', linestyle='-')\n",
    "plt.axvline(x = np.mean(observations_ev_vehicle) - (2 * np.std(observations_ev_vehicle)), color = 'y', linestyle='-')\n",
    "\n",
    "plt.axhline(y = 0.975, color = 'y', linestyle='-')\n",
    "plt.axvline(x = np.mean(observations_ev_vehicle)+ (2 * np.std(observations_ev_vehicle)), color= 'y', linestyle='-')\n"
   ]
  },
  {
   "cell_type": "code",
   "execution_count": 13,
   "metadata": {},
   "outputs": [
    {
     "data": {
      "text/plain": [
       "(186879, 17)"
      ]
     },
     "execution_count": 13,
     "metadata": {},
     "output_type": "execute_result"
    }
   ],
   "source": [
    "ev_dataset.shape"
   ]
  },
  {
   "cell_type": "code",
   "execution_count": 14,
   "metadata": {},
   "outputs": [
    {
     "data": {
      "text/plain": [
       "<bound method Series.unique of 0                 I3\n",
       "1            MODEL S\n",
       "2            MODEL S\n",
       "3                 I8\n",
       "4            MODEL X\n",
       "             ...    \n",
       "186874    RAV4 PRIME\n",
       "186875       MODEL Y\n",
       "186876        FUSION\n",
       "186877       MODEL Y\n",
       "186878       MODEL Y\n",
       "Name: Model, Length: 186879, dtype: object>"
      ]
     },
     "execution_count": 14,
     "metadata": {},
     "output_type": "execute_result"
    }
   ],
   "source": [
    "ev_dataset['Model'].unique"
   ]
  },
  {
   "cell_type": "code",
   "execution_count": 15,
   "metadata": {},
   "outputs": [
    {
     "data": {
      "text/plain": [
       "<bound method Series.unique of 0            BMW\n",
       "1          TESLA\n",
       "2          TESLA\n",
       "3            BMW\n",
       "4          TESLA\n",
       "           ...  \n",
       "186874    TOYOTA\n",
       "186875     TESLA\n",
       "186876      FORD\n",
       "186877     TESLA\n",
       "186878     TESLA\n",
       "Name: Make, Length: 186879, dtype: object>"
      ]
     },
     "execution_count": 15,
     "metadata": {},
     "output_type": "execute_result"
    }
   ],
   "source": [
    "ev_dataset['Make'].unique"
   ]
  },
  {
   "cell_type": "code",
   "execution_count": 18,
   "metadata": {},
   "outputs": [
    {
     "data": {
      "text/plain": [
       "Model\n",
       "MODEL Y        38648\n",
       "MODEL 3        30714\n",
       "LEAF           13435\n",
       "MODEL S         7831\n",
       "BOLT EV         7056\n",
       "               ...  \n",
       "745LE              2\n",
       "918                1\n",
       "750E               1\n",
       "S-10 PICKUP        1\n",
       "BENTAYGA           1\n",
       "Name: count, Length: 143, dtype: int64"
      ]
     },
     "execution_count": 18,
     "metadata": {},
     "output_type": "execute_result"
    }
   ],
   "source": [
    "ev_dataset['Model'].value_counts()"
   ]
  },
  {
   "cell_type": "code",
   "execution_count": 19,
   "metadata": {},
   "outputs": [
    {
     "data": {
      "text/plain": [
       "Make\n",
       "TESLA                   83349\n",
       "NISSAN                  14181\n",
       "CHEVROLET               14072\n",
       "FORD                     9836\n",
       "KIA                      7885\n",
       "BMW                      7856\n",
       "TOYOTA                   6766\n",
       "VOLKSWAGEN               5295\n",
       "JEEP                     4927\n",
       "HYUNDAI                  4784\n",
       "RIVIAN                   4540\n",
       "VOLVO                    4407\n",
       "AUDI                     3808\n",
       "CHRYSLER                 3281\n",
       "MERCEDES-BENZ            1737\n",
       "PORSCHE                  1163\n",
       "MITSUBISHI                991\n",
       "MINI                      943\n",
       "POLESTAR                  897\n",
       "SUBARU                    859\n",
       "HONDA                     843\n",
       "FIAT                      784\n",
       "DODGE                     614\n",
       "MAZDA                     550\n",
       "LEXUS                     506\n",
       "CADILLAC                  490\n",
       "LINCOLN                   275\n",
       "SMART                     260\n",
       "LUCID                     249\n",
       "JAGUAR                    232\n",
       "GENESIS                   204\n",
       "FISKER                    166\n",
       "LAND ROVER                 57\n",
       "ALFA ROMEO                 47\n",
       "AZURE DYNAMICS              8\n",
       "TH!NK                       5\n",
       "GMC                         4\n",
       "BENTLEY                     3\n",
       "WHEEGO ELECTRIC CARS        3\n",
       "ROLLS ROYCE                 2\n",
       "Name: count, dtype: int64"
      ]
     },
     "execution_count": 19,
     "metadata": {},
     "output_type": "execute_result"
    }
   ],
   "source": [
    "ev_dataset['Make'].value_counts()"
   ]
  },
  {
   "cell_type": "code",
   "execution_count": 22,
   "metadata": {},
   "outputs": [],
   "source": [
    "top_model = ev_dataset['Model'].head(10)\n",
    "top_make = ev_dataset['Make'].head(10)"
   ]
  },
  {
   "cell_type": "code",
   "execution_count": 23,
   "metadata": {},
   "outputs": [
    {
     "name": "stdout",
     "output_type": "stream",
     "text": [
      "0         I3\n",
      "1    MODEL S\n",
      "2    MODEL S\n",
      "3         I8\n",
      "4    MODEL X\n",
      "5         I4\n",
      "6    MODEL 3\n",
      "7       ID.4\n",
      "8     E-GOLF\n",
      "9        500\n",
      "Name: Model, dtype: object 0           BMW\n",
      "1         TESLA\n",
      "2         TESLA\n",
      "3           BMW\n",
      "4         TESLA\n",
      "5           BMW\n",
      "6         TESLA\n",
      "7    VOLKSWAGEN\n",
      "8    VOLKSWAGEN\n",
      "9          FIAT\n",
      "Name: Make, dtype: object\n"
     ]
    }
   ],
   "source": [
    "print(top_model,top_make)"
   ]
  },
  {
   "cell_type": "code",
   "execution_count": 26,
   "metadata": {},
   "outputs": [
    {
     "ename": "TypeError",
     "evalue": "'module' object is not callable",
     "output_type": "error",
     "traceback": [
      "\u001b[0;31m---------------------------------------------------------------------------\u001b[0m",
      "\u001b[0;31mTypeError\u001b[0m                                 Traceback (most recent call last)",
      "Cell \u001b[0;32mIn[26], line 2\u001b[0m\n\u001b[1;32m      1\u001b[0m \u001b[38;5;66;03m###Distribution of make : \u001b[39;00m\n\u001b[0;32m----> 2\u001b[0m \u001b[43mplt\u001b[49m\u001b[38;5;241;43m.\u001b[39;49m\u001b[43mfigure\u001b[49m\u001b[43m(\u001b[49m\u001b[43mfigsize\u001b[49m\u001b[38;5;241;43m=\u001b[39;49m\u001b[43m(\u001b[49m\u001b[38;5;241;43m12\u001b[39;49m\u001b[43m,\u001b[49m\u001b[43m \u001b[49m\u001b[38;5;241;43m6\u001b[39;49m\u001b[43m)\u001b[49m\u001b[43m)\u001b[49m\n",
      "\u001b[0;31mTypeError\u001b[0m: 'module' object is not callable"
     ]
    }
   ],
   "source": [
    "###Distribution of make : \n",
    "plt.figure(figsize=(12, 6))"
   ]
  },
  {
   "cell_type": "code",
   "execution_count": null,
   "metadata": {},
   "outputs": [],
   "source": []
  }
 ],
 "metadata": {
  "kernelspec": {
   "display_name": "study",
   "language": "python",
   "name": "python3"
  },
  "language_info": {
   "codemirror_mode": {
    "name": "ipython",
    "version": 3
   },
   "file_extension": ".py",
   "mimetype": "text/x-python",
   "name": "python",
   "nbconvert_exporter": "python",
   "pygments_lexer": "ipython3",
   "version": "3.9.16"
  }
 },
 "nbformat": 4,
 "nbformat_minor": 2
}
