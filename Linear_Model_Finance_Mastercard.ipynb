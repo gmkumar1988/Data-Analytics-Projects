{
 "cells": [
  {
   "cell_type": "code",
   "execution_count": 1,
   "metadata": {},
   "outputs": [],
   "source": [
    "import numpy as np\n",
    "import pandas as pd\n",
    "import matplotlib.pyplot as plt\n",
    "import seaborn as sns"
   ]
  },
  {
   "cell_type": "markdown",
   "metadata": {},
   "source": [
    "Definition of linear relationship: We will use single continuous input that is linearly related to trend \n",
    "\n",
    "$$ \\mu = \\beta_0 + \\beta_1 \\times X $$"
   ]
  },
  {
   "cell_type": "markdown",
   "metadata": {},
   "source": [
    "Read the dataset of mastercard dividend"
   ]
  },
  {
   "cell_type": "code",
   "execution_count": 2,
   "metadata": {},
   "outputs": [],
   "source": [
    "df_mastercard = pd.read_csv('/Users/maheshg/Library/CloudStorage/OneDrive-Microsoft365/Sample Datasets Kaggle/Finance Datasets/MastercardDataset/Mastercard_stock_dividends.csv')"
   ]
  },
  {
   "cell_type": "code",
   "execution_count": 3,
   "metadata": {},
   "outputs": [],
   "source": [
    "df_mastercard_new = pd.DataFrame([df_mastercard.Dividends])"
   ]
  },
  {
   "cell_type": "code",
   "execution_count": 4,
   "metadata": {},
   "outputs": [
    {
     "data": {
      "text/html": [
       "<div>\n",
       "<style scoped>\n",
       "    .dataframe tbody tr th:only-of-type {\n",
       "        vertical-align: middle;\n",
       "    }\n",
       "\n",
       "    .dataframe tbody tr th {\n",
       "        vertical-align: top;\n",
       "    }\n",
       "\n",
       "    .dataframe thead th {\n",
       "        text-align: right;\n",
       "    }\n",
       "</style>\n",
       "<table border=\"1\" class=\"dataframe\">\n",
       "  <thead>\n",
       "    <tr style=\"text-align: right;\">\n",
       "      <th></th>\n",
       "      <th>0</th>\n",
       "      <th>1</th>\n",
       "      <th>2</th>\n",
       "      <th>3</th>\n",
       "      <th>4</th>\n",
       "      <th>5</th>\n",
       "      <th>6</th>\n",
       "      <th>7</th>\n",
       "      <th>8</th>\n",
       "      <th>9</th>\n",
       "      <th>...</th>\n",
       "      <th>64</th>\n",
       "      <th>65</th>\n",
       "      <th>66</th>\n",
       "      <th>67</th>\n",
       "      <th>68</th>\n",
       "      <th>69</th>\n",
       "      <th>70</th>\n",
       "      <th>71</th>\n",
       "      <th>72</th>\n",
       "      <th>73</th>\n",
       "    </tr>\n",
       "  </thead>\n",
       "  <tbody>\n",
       "    <tr>\n",
       "      <th>Dividends</th>\n",
       "      <td>0.009</td>\n",
       "      <td>0.009</td>\n",
       "      <td>0.015</td>\n",
       "      <td>0.015</td>\n",
       "      <td>0.015</td>\n",
       "      <td>0.015</td>\n",
       "      <td>0.015</td>\n",
       "      <td>0.015</td>\n",
       "      <td>0.015</td>\n",
       "      <td>0.015</td>\n",
       "      <td>...</td>\n",
       "      <td>0.49</td>\n",
       "      <td>0.57</td>\n",
       "      <td>0.57</td>\n",
       "      <td>0.57</td>\n",
       "      <td>0.57</td>\n",
       "      <td>0.66</td>\n",
       "      <td>0.66</td>\n",
       "      <td>0.66</td>\n",
       "      <td>0.66</td>\n",
       "      <td>0.76</td>\n",
       "    </tr>\n",
       "  </tbody>\n",
       "</table>\n",
       "<p>1 rows × 74 columns</p>\n",
       "</div>"
      ],
      "text/plain": [
       "              0      1      2      3      4      5      6      7      8   \\\n",
       "Dividends  0.009  0.009  0.015  0.015  0.015  0.015  0.015  0.015  0.015   \n",
       "\n",
       "              9   ...    64    65    66    67    68    69    70    71    72  \\\n",
       "Dividends  0.015  ...  0.49  0.57  0.57  0.57  0.57  0.66  0.66  0.66  0.66   \n",
       "\n",
       "             73  \n",
       "Dividends  0.76  \n",
       "\n",
       "[1 rows x 74 columns]"
      ]
     },
     "execution_count": 4,
     "metadata": {},
     "output_type": "execute_result"
    }
   ],
   "source": [
    "df_mastercard_new.head()"
   ]
  },
  {
   "cell_type": "code",
   "execution_count": 5,
   "metadata": {},
   "outputs": [
    {
     "data": {
      "text/html": [
       "<div>\n",
       "<style scoped>\n",
       "    .dataframe tbody tr th:only-of-type {\n",
       "        vertical-align: middle;\n",
       "    }\n",
       "\n",
       "    .dataframe tbody tr th {\n",
       "        vertical-align: top;\n",
       "    }\n",
       "\n",
       "    .dataframe thead th {\n",
       "        text-align: right;\n",
       "    }\n",
       "</style>\n",
       "<table border=\"1\" class=\"dataframe\">\n",
       "  <thead>\n",
       "    <tr style=\"text-align: right;\">\n",
       "      <th></th>\n",
       "      <th>Dividends</th>\n",
       "    </tr>\n",
       "  </thead>\n",
       "  <tbody>\n",
       "    <tr>\n",
       "      <th>0</th>\n",
       "      <td>0.009</td>\n",
       "    </tr>\n",
       "    <tr>\n",
       "      <th>1</th>\n",
       "      <td>0.009</td>\n",
       "    </tr>\n",
       "    <tr>\n",
       "      <th>2</th>\n",
       "      <td>0.015</td>\n",
       "    </tr>\n",
       "    <tr>\n",
       "      <th>3</th>\n",
       "      <td>0.015</td>\n",
       "    </tr>\n",
       "    <tr>\n",
       "      <th>4</th>\n",
       "      <td>0.015</td>\n",
       "    </tr>\n",
       "    <tr>\n",
       "      <th>...</th>\n",
       "      <td>...</td>\n",
       "    </tr>\n",
       "    <tr>\n",
       "      <th>69</th>\n",
       "      <td>0.660</td>\n",
       "    </tr>\n",
       "    <tr>\n",
       "      <th>70</th>\n",
       "      <td>0.660</td>\n",
       "    </tr>\n",
       "    <tr>\n",
       "      <th>71</th>\n",
       "      <td>0.660</td>\n",
       "    </tr>\n",
       "    <tr>\n",
       "      <th>72</th>\n",
       "      <td>0.660</td>\n",
       "    </tr>\n",
       "    <tr>\n",
       "      <th>73</th>\n",
       "      <td>0.760</td>\n",
       "    </tr>\n",
       "  </tbody>\n",
       "</table>\n",
       "<p>74 rows × 1 columns</p>\n",
       "</div>"
      ],
      "text/plain": [
       "    Dividends\n",
       "0       0.009\n",
       "1       0.009\n",
       "2       0.015\n",
       "3       0.015\n",
       "4       0.015\n",
       "..        ...\n",
       "69      0.660\n",
       "70      0.660\n",
       "71      0.660\n",
       "72      0.660\n",
       "73      0.760\n",
       "\n",
       "[74 rows x 1 columns]"
      ]
     },
     "execution_count": 5,
     "metadata": {},
     "output_type": "execute_result"
    }
   ],
   "source": [
    "df_mastercard_new.T"
   ]
  },
  {
   "cell_type": "markdown",
   "metadata": {},
   "source": [
    "Assumption of Slope and Intercept Value based on the market index "
   ]
  },
  {
   "cell_type": "code",
   "execution_count": 6,
   "metadata": {},
   "outputs": [],
   "source": [
    "my_slope = 0.10\n",
    "my_intercept = 0.5"
   ]
  },
  {
   "cell_type": "markdown",
   "metadata": {},
   "source": [
    "Calculate the trend or average output of the above dataframe:"
   ]
  },
  {
   "cell_type": "code",
   "execution_count": 7,
   "metadata": {},
   "outputs": [
    {
     "data": {
      "text/html": [
       "<div>\n",
       "<style scoped>\n",
       "    .dataframe tbody tr th:only-of-type {\n",
       "        vertical-align: middle;\n",
       "    }\n",
       "\n",
       "    .dataframe tbody tr th {\n",
       "        vertical-align: top;\n",
       "    }\n",
       "\n",
       "    .dataframe thead th {\n",
       "        text-align: right;\n",
       "    }\n",
       "</style>\n",
       "<table border=\"1\" class=\"dataframe\">\n",
       "  <thead>\n",
       "    <tr style=\"text-align: right;\">\n",
       "      <th></th>\n",
       "      <th>0</th>\n",
       "      <th>1</th>\n",
       "      <th>2</th>\n",
       "      <th>3</th>\n",
       "      <th>4</th>\n",
       "      <th>5</th>\n",
       "      <th>6</th>\n",
       "      <th>7</th>\n",
       "      <th>8</th>\n",
       "      <th>9</th>\n",
       "      <th>...</th>\n",
       "      <th>64</th>\n",
       "      <th>65</th>\n",
       "      <th>66</th>\n",
       "      <th>67</th>\n",
       "      <th>68</th>\n",
       "      <th>69</th>\n",
       "      <th>70</th>\n",
       "      <th>71</th>\n",
       "      <th>72</th>\n",
       "      <th>73</th>\n",
       "    </tr>\n",
       "  </thead>\n",
       "  <tbody>\n",
       "    <tr>\n",
       "      <th>Dividends</th>\n",
       "      <td>0.009</td>\n",
       "      <td>0.009</td>\n",
       "      <td>0.015</td>\n",
       "      <td>0.015</td>\n",
       "      <td>0.015</td>\n",
       "      <td>0.015</td>\n",
       "      <td>0.015</td>\n",
       "      <td>0.015</td>\n",
       "      <td>0.015</td>\n",
       "      <td>0.015</td>\n",
       "      <td>...</td>\n",
       "      <td>0.49</td>\n",
       "      <td>0.57</td>\n",
       "      <td>0.57</td>\n",
       "      <td>0.57</td>\n",
       "      <td>0.57</td>\n",
       "      <td>0.66</td>\n",
       "      <td>0.66</td>\n",
       "      <td>0.66</td>\n",
       "      <td>0.66</td>\n",
       "      <td>0.76</td>\n",
       "    </tr>\n",
       "  </tbody>\n",
       "</table>\n",
       "<p>1 rows × 74 columns</p>\n",
       "</div>"
      ],
      "text/plain": [
       "              0      1      2      3      4      5      6      7      8   \\\n",
       "Dividends  0.009  0.009  0.015  0.015  0.015  0.015  0.015  0.015  0.015   \n",
       "\n",
       "              9   ...    64    65    66    67    68    69    70    71    72  \\\n",
       "Dividends  0.015  ...  0.49  0.57  0.57  0.57  0.57  0.66  0.66  0.66  0.66   \n",
       "\n",
       "             73  \n",
       "Dividends  0.76  \n",
       "\n",
       "[1 rows x 74 columns]"
      ]
     },
     "execution_count": 7,
     "metadata": {},
     "output_type": "execute_result"
    }
   ],
   "source": [
    "df_mastercard_new.head()"
   ]
  },
  {
   "cell_type": "code",
   "execution_count": 8,
   "metadata": {},
   "outputs": [],
   "source": [
    "df_mastercard_new = df_mastercard_new.T"
   ]
  },
  {
   "cell_type": "code",
   "execution_count": 9,
   "metadata": {},
   "outputs": [
    {
     "data": {
      "text/html": [
       "<div>\n",
       "<style scoped>\n",
       "    .dataframe tbody tr th:only-of-type {\n",
       "        vertical-align: middle;\n",
       "    }\n",
       "\n",
       "    .dataframe tbody tr th {\n",
       "        vertical-align: top;\n",
       "    }\n",
       "\n",
       "    .dataframe thead th {\n",
       "        text-align: right;\n",
       "    }\n",
       "</style>\n",
       "<table border=\"1\" class=\"dataframe\">\n",
       "  <thead>\n",
       "    <tr style=\"text-align: right;\">\n",
       "      <th></th>\n",
       "      <th>Dividends</th>\n",
       "    </tr>\n",
       "  </thead>\n",
       "  <tbody>\n",
       "    <tr>\n",
       "      <th>0</th>\n",
       "      <td>0.009</td>\n",
       "    </tr>\n",
       "    <tr>\n",
       "      <th>1</th>\n",
       "      <td>0.009</td>\n",
       "    </tr>\n",
       "    <tr>\n",
       "      <th>2</th>\n",
       "      <td>0.015</td>\n",
       "    </tr>\n",
       "    <tr>\n",
       "      <th>3</th>\n",
       "      <td>0.015</td>\n",
       "    </tr>\n",
       "    <tr>\n",
       "      <th>4</th>\n",
       "      <td>0.015</td>\n",
       "    </tr>\n",
       "  </tbody>\n",
       "</table>\n",
       "</div>"
      ],
      "text/plain": [
       "   Dividends\n",
       "0      0.009\n",
       "1      0.009\n",
       "2      0.015\n",
       "3      0.015\n",
       "4      0.015"
      ]
     },
     "execution_count": 9,
     "metadata": {},
     "output_type": "execute_result"
    }
   ],
   "source": [
    "df_mastercard_new.head()"
   ]
  },
  {
   "cell_type": "code",
   "execution_count": 10,
   "metadata": {},
   "outputs": [
    {
     "data": {
      "text/plain": [
       "(74, 1)"
      ]
     },
     "execution_count": 10,
     "metadata": {},
     "output_type": "execute_result"
    }
   ],
   "source": [
    "df_mastercard_new.shape"
   ]
  },
  {
   "cell_type": "code",
   "execution_count": 11,
   "metadata": {},
   "outputs": [],
   "source": [
    "df_mastercard_new['trend'] = my_slope + my_intercept * df_mastercard_new"
   ]
  },
  {
   "cell_type": "code",
   "execution_count": 12,
   "metadata": {},
   "outputs": [
    {
     "data": {
      "text/html": [
       "<div>\n",
       "<style scoped>\n",
       "    .dataframe tbody tr th:only-of-type {\n",
       "        vertical-align: middle;\n",
       "    }\n",
       "\n",
       "    .dataframe tbody tr th {\n",
       "        vertical-align: top;\n",
       "    }\n",
       "\n",
       "    .dataframe thead th {\n",
       "        text-align: right;\n",
       "    }\n",
       "</style>\n",
       "<table border=\"1\" class=\"dataframe\">\n",
       "  <thead>\n",
       "    <tr style=\"text-align: right;\">\n",
       "      <th></th>\n",
       "      <th>Dividends</th>\n",
       "      <th>trend</th>\n",
       "    </tr>\n",
       "  </thead>\n",
       "  <tbody>\n",
       "    <tr>\n",
       "      <th>0</th>\n",
       "      <td>0.009</td>\n",
       "      <td>0.1045</td>\n",
       "    </tr>\n",
       "    <tr>\n",
       "      <th>1</th>\n",
       "      <td>0.009</td>\n",
       "      <td>0.1045</td>\n",
       "    </tr>\n",
       "    <tr>\n",
       "      <th>2</th>\n",
       "      <td>0.015</td>\n",
       "      <td>0.1075</td>\n",
       "    </tr>\n",
       "    <tr>\n",
       "      <th>3</th>\n",
       "      <td>0.015</td>\n",
       "      <td>0.1075</td>\n",
       "    </tr>\n",
       "    <tr>\n",
       "      <th>4</th>\n",
       "      <td>0.015</td>\n",
       "      <td>0.1075</td>\n",
       "    </tr>\n",
       "  </tbody>\n",
       "</table>\n",
       "</div>"
      ],
      "text/plain": [
       "   Dividends   trend\n",
       "0      0.009  0.1045\n",
       "1      0.009  0.1045\n",
       "2      0.015  0.1075\n",
       "3      0.015  0.1075\n",
       "4      0.015  0.1075"
      ]
     },
     "execution_count": 12,
     "metadata": {},
     "output_type": "execute_result"
    }
   ],
   "source": [
    "df_mastercard_new.head()"
   ]
  },
  {
   "cell_type": "code",
   "execution_count": 13,
   "metadata": {},
   "outputs": [],
   "source": [
    "sns.set_style('whitegrid')"
   ]
  },
  {
   "cell_type": "markdown",
   "metadata": {},
   "source": [
    "Using Seaborn Package "
   ]
  },
  {
   "cell_type": "code",
   "execution_count": 14,
   "metadata": {},
   "outputs": [
    {
     "data": {
      "image/png": "[encoded data removed]",
      "text/plain": [
       "<Figure size 500x500 with 1 Axes>"
      ]
     },
     "metadata": {},
     "output_type": "display_data"
    }
   ],
   "source": [
    "sns.relplot(data=df_mastercard_new, x = 'Dividends', y = 'trend', kind='line')\n",
    "plt.show()"
   ]
  },
  {
   "cell_type": "code",
   "execution_count": 15,
   "metadata": {},
   "outputs": [
    {
     "data": {
      "image/png": "[encoded data removed]",
      "text/plain": [
       "<Figure size 640x480 with 1 Axes>"
      ]
     },
     "metadata": {},
     "output_type": "display_data"
    }
   ],
   "source": [
    "fig, ax = plt.subplots()\n",
    "\n",
    "ax.plot(df_mastercard_new.Dividends, df_mastercard_new.trend, color = 'r')\n",
    "ax.set_xlabel('Dividend')\n",
    "ax.set_ylabel('Stocks')\n",
    "plt.show()"
   ]
  },
  {
   "cell_type": "code",
   "execution_count": 16,
   "metadata": {},
   "outputs": [],
   "source": [
    "my_sigma = 0.152"
   ]
  },
  {
   "cell_type": "markdown",
   "metadata": {},
   "source": [
    "1 Sigma Rule :"
   ]
  },
  {
   "cell_type": "code",
   "execution_count": 17,
   "metadata": {},
   "outputs": [],
   "source": [
    "df_mastercard_new['lwr_obs_68'] = df_mastercard_new.trend - my_sigma\n",
    "df_mastercard_new['upr_obs_68'] = df_mastercard_new.trend + my_sigma\n",
    " "
   ]
  },
  {
   "cell_type": "markdown",
   "metadata": {},
   "source": [
    "2 Sigma Rule:"
   ]
  },
  {
   "cell_type": "code",
   "execution_count": 18,
   "metadata": {},
   "outputs": [],
   "source": [
    "df_mastercard_new['lwr_obs_95'] = df_mastercard_new.trend - 2 * my_sigma\n",
    "df_mastercard_new['upr_obs_95'] = df_mastercard_new.trend + 2 * my_sigma"
   ]
  },
  {
   "cell_type": "code",
   "execution_count": 19,
   "metadata": {},
   "outputs": [
    {
     "data": {
      "text/html": [
       "<div>\n",
       "<style scoped>\n",
       "    .dataframe tbody tr th:only-of-type {\n",
       "        vertical-align: middle;\n",
       "    }\n",
       "\n",
       "    .dataframe tbody tr th {\n",
       "        vertical-align: top;\n",
       "    }\n",
       "\n",
       "    .dataframe thead th {\n",
       "        text-align: right;\n",
       "    }\n",
       "</style>\n",
       "<table border=\"1\" class=\"dataframe\">\n",
       "  <thead>\n",
       "    <tr style=\"text-align: right;\">\n",
       "      <th></th>\n",
       "      <th>Dividends</th>\n",
       "      <th>trend</th>\n",
       "      <th>lwr_obs_68</th>\n",
       "      <th>upr_obs_68</th>\n",
       "      <th>lwr_obs_95</th>\n",
       "      <th>upr_obs_95</th>\n",
       "    </tr>\n",
       "  </thead>\n",
       "  <tbody>\n",
       "    <tr>\n",
       "      <th>0</th>\n",
       "      <td>0.009</td>\n",
       "      <td>0.1045</td>\n",
       "      <td>-0.0475</td>\n",
       "      <td>0.2565</td>\n",
       "      <td>-0.1995</td>\n",
       "      <td>0.4085</td>\n",
       "    </tr>\n",
       "    <tr>\n",
       "      <th>1</th>\n",
       "      <td>0.009</td>\n",
       "      <td>0.1045</td>\n",
       "      <td>-0.0475</td>\n",
       "      <td>0.2565</td>\n",
       "      <td>-0.1995</td>\n",
       "      <td>0.4085</td>\n",
       "    </tr>\n",
       "    <tr>\n",
       "      <th>2</th>\n",
       "      <td>0.015</td>\n",
       "      <td>0.1075</td>\n",
       "      <td>-0.0445</td>\n",
       "      <td>0.2595</td>\n",
       "      <td>-0.1965</td>\n",
       "      <td>0.4115</td>\n",
       "    </tr>\n",
       "    <tr>\n",
       "      <th>3</th>\n",
       "      <td>0.015</td>\n",
       "      <td>0.1075</td>\n",
       "      <td>-0.0445</td>\n",
       "      <td>0.2595</td>\n",
       "      <td>-0.1965</td>\n",
       "      <td>0.4115</td>\n",
       "    </tr>\n",
       "    <tr>\n",
       "      <th>4</th>\n",
       "      <td>0.015</td>\n",
       "      <td>0.1075</td>\n",
       "      <td>-0.0445</td>\n",
       "      <td>0.2595</td>\n",
       "      <td>-0.1965</td>\n",
       "      <td>0.4115</td>\n",
       "    </tr>\n",
       "    <tr>\n",
       "      <th>...</th>\n",
       "      <td>...</td>\n",
       "      <td>...</td>\n",
       "      <td>...</td>\n",
       "      <td>...</td>\n",
       "      <td>...</td>\n",
       "      <td>...</td>\n",
       "    </tr>\n",
       "    <tr>\n",
       "      <th>69</th>\n",
       "      <td>0.660</td>\n",
       "      <td>0.4300</td>\n",
       "      <td>0.2780</td>\n",
       "      <td>0.5820</td>\n",
       "      <td>0.1260</td>\n",
       "      <td>0.7340</td>\n",
       "    </tr>\n",
       "    <tr>\n",
       "      <th>70</th>\n",
       "      <td>0.660</td>\n",
       "      <td>0.4300</td>\n",
       "      <td>0.2780</td>\n",
       "      <td>0.5820</td>\n",
       "      <td>0.1260</td>\n",
       "      <td>0.7340</td>\n",
       "    </tr>\n",
       "    <tr>\n",
       "      <th>71</th>\n",
       "      <td>0.660</td>\n",
       "      <td>0.4300</td>\n",
       "      <td>0.2780</td>\n",
       "      <td>0.5820</td>\n",
       "      <td>0.1260</td>\n",
       "      <td>0.7340</td>\n",
       "    </tr>\n",
       "    <tr>\n",
       "      <th>72</th>\n",
       "      <td>0.660</td>\n",
       "      <td>0.4300</td>\n",
       "      <td>0.2780</td>\n",
       "      <td>0.5820</td>\n",
       "      <td>0.1260</td>\n",
       "      <td>0.7340</td>\n",
       "    </tr>\n",
       "    <tr>\n",
       "      <th>73</th>\n",
       "      <td>0.760</td>\n",
       "      <td>0.4800</td>\n",
       "      <td>0.3280</td>\n",
       "      <td>0.6320</td>\n",
       "      <td>0.1760</td>\n",
       "      <td>0.7840</td>\n",
       "    </tr>\n",
       "  </tbody>\n",
       "</table>\n",
       "<p>74 rows × 6 columns</p>\n",
       "</div>"
      ],
      "text/plain": [
       "    Dividends   trend  lwr_obs_68  upr_obs_68  lwr_obs_95  upr_obs_95\n",
       "0       0.009  0.1045     -0.0475      0.2565     -0.1995      0.4085\n",
       "1       0.009  0.1045     -0.0475      0.2565     -0.1995      0.4085\n",
       "2       0.015  0.1075     -0.0445      0.2595     -0.1965      0.4115\n",
       "3       0.015  0.1075     -0.0445      0.2595     -0.1965      0.4115\n",
       "4       0.015  0.1075     -0.0445      0.2595     -0.1965      0.4115\n",
       "..        ...     ...         ...         ...         ...         ...\n",
       "69      0.660  0.4300      0.2780      0.5820      0.1260      0.7340\n",
       "70      0.660  0.4300      0.2780      0.5820      0.1260      0.7340\n",
       "71      0.660  0.4300      0.2780      0.5820      0.1260      0.7340\n",
       "72      0.660  0.4300      0.2780      0.5820      0.1260      0.7340\n",
       "73      0.760  0.4800      0.3280      0.6320      0.1760      0.7840\n",
       "\n",
       "[74 rows x 6 columns]"
      ]
     },
     "execution_count": 19,
     "metadata": {},
     "output_type": "execute_result"
    }
   ],
   "source": [
    "df_mastercard_new"
   ]
  },
  {
   "cell_type": "markdown",
   "metadata": {},
   "source": [
    "Visualize the uncertainty level of variation from this dataset!"
   ]
  },
  {
   "cell_type": "code",
   "execution_count": 20,
   "metadata": {},
   "outputs": [
    {
     "data": {
      "image/png": "[encoded data removed]",
      "text/plain": [
       "<Figure size 640x480 with 1 Axes>"
      ]
     },
     "metadata": {},
     "output_type": "display_data"
    }
   ],
   "source": [
    "fig, ax = plt.subplots()\n",
    "\n",
    "### True Trend \n",
    "ax.plot(df_mastercard_new.Dividends, df_mastercard_new.trend, color = 'crimson', linewidth = 1.5)\n",
    "\n",
    "### Variation around the trend line using 2 sigma interval \n",
    "ax.fill_between(df_mastercard_new.Dividends, df_mastercard_new.lwr_obs_95, df_mastercard_new.upr_obs_95, facecolor = 'crimson', alpha = 0.35)\n",
    "\n",
    "\n",
    "### Variation around the trend line using 1 sigma interval \n",
    "ax.fill_between(df_mastercard_new.Dividends, df_mastercard_new.lwr_obs_68, df_mastercard_new.upr_obs_95,facecolor = 'crimson', alpha = 0.35)\n",
    "\n",
    "### Set Labels\n",
    "ax.set_xlabel('Dividend Value')\n",
    "ax.set_ylabel('Stocks')\n",
    "\n",
    "### Show the Plot \n",
    "plt.show()"
   ]
  },
  {
   "cell_type": "markdown",
   "metadata": {},
   "source": [
    "Generate the random output data and performing the trend line with true scope and true sigma with an assumption "
   ]
  },
  {
   "cell_type": "code",
   "execution_count": 21,
   "metadata": {},
   "outputs": [],
   "source": [
    "df_mastercard_new = pd.DataFrame({'x': np.linspace(-3,3,num=9)})"
   ]
  },
  {
   "cell_type": "code",
   "execution_count": 22,
   "metadata": {},
   "outputs": [
    {
     "data": {
      "text/html": [
       "<div>\n",
       "<style scoped>\n",
       "    .dataframe tbody tr th:only-of-type {\n",
       "        vertical-align: middle;\n",
       "    }\n",
       "\n",
       "    .dataframe tbody tr th {\n",
       "        vertical-align: top;\n",
       "    }\n",
       "\n",
       "    .dataframe thead th {\n",
       "        text-align: right;\n",
       "    }\n",
       "</style>\n",
       "<table border=\"1\" class=\"dataframe\">\n",
       "  <thead>\n",
       "    <tr style=\"text-align: right;\">\n",
       "      <th></th>\n",
       "      <th>x</th>\n",
       "    </tr>\n",
       "  </thead>\n",
       "  <tbody>\n",
       "    <tr>\n",
       "      <th>0</th>\n",
       "      <td>-3.00</td>\n",
       "    </tr>\n",
       "    <tr>\n",
       "      <th>1</th>\n",
       "      <td>-2.25</td>\n",
       "    </tr>\n",
       "    <tr>\n",
       "      <th>2</th>\n",
       "      <td>-1.50</td>\n",
       "    </tr>\n",
       "    <tr>\n",
       "      <th>3</th>\n",
       "      <td>-0.75</td>\n",
       "    </tr>\n",
       "    <tr>\n",
       "      <th>4</th>\n",
       "      <td>0.00</td>\n",
       "    </tr>\n",
       "    <tr>\n",
       "      <th>5</th>\n",
       "      <td>0.75</td>\n",
       "    </tr>\n",
       "    <tr>\n",
       "      <th>6</th>\n",
       "      <td>1.50</td>\n",
       "    </tr>\n",
       "    <tr>\n",
       "      <th>7</th>\n",
       "      <td>2.25</td>\n",
       "    </tr>\n",
       "    <tr>\n",
       "      <th>8</th>\n",
       "      <td>3.00</td>\n",
       "    </tr>\n",
       "  </tbody>\n",
       "</table>\n",
       "</div>"
      ],
      "text/plain": [
       "      x\n",
       "0 -3.00\n",
       "1 -2.25\n",
       "2 -1.50\n",
       "3 -0.75\n",
       "4  0.00\n",
       "5  0.75\n",
       "6  1.50\n",
       "7  2.25\n",
       "8  3.00"
      ]
     },
     "execution_count": 22,
     "metadata": {},
     "output_type": "execute_result"
    }
   ],
   "source": [
    "df_mastercard_new"
   ]
  },
  {
   "cell_type": "code",
   "execution_count": 23,
   "metadata": {},
   "outputs": [
    {
     "data": {
      "text/plain": [
       "pandas.core.frame.DataFrame"
      ]
     },
     "execution_count": 23,
     "metadata": {},
     "output_type": "execute_result"
    }
   ],
   "source": [
    "type(df_mastercard_new)"
   ]
  },
  {
   "cell_type": "code",
   "execution_count": 24,
   "metadata": {},
   "outputs": [],
   "source": [
    "df_mastercard_new['trend'] = my_intercept + my_slope * df_mastercard_new.x"
   ]
  },
  {
   "cell_type": "code",
   "execution_count": 25,
   "metadata": {},
   "outputs": [
    {
     "data": {
      "text/html": [
       "<div>\n",
       "<style scoped>\n",
       "    .dataframe tbody tr th:only-of-type {\n",
       "        vertical-align: middle;\n",
       "    }\n",
       "\n",
       "    .dataframe tbody tr th {\n",
       "        vertical-align: top;\n",
       "    }\n",
       "\n",
       "    .dataframe thead th {\n",
       "        text-align: right;\n",
       "    }\n",
       "</style>\n",
       "<table border=\"1\" class=\"dataframe\">\n",
       "  <thead>\n",
       "    <tr style=\"text-align: right;\">\n",
       "      <th></th>\n",
       "      <th>x</th>\n",
       "      <th>trend</th>\n",
       "    </tr>\n",
       "  </thead>\n",
       "  <tbody>\n",
       "    <tr>\n",
       "      <th>0</th>\n",
       "      <td>-3.00</td>\n",
       "      <td>0.200</td>\n",
       "    </tr>\n",
       "    <tr>\n",
       "      <th>1</th>\n",
       "      <td>-2.25</td>\n",
       "      <td>0.275</td>\n",
       "    </tr>\n",
       "    <tr>\n",
       "      <th>2</th>\n",
       "      <td>-1.50</td>\n",
       "      <td>0.350</td>\n",
       "    </tr>\n",
       "    <tr>\n",
       "      <th>3</th>\n",
       "      <td>-0.75</td>\n",
       "      <td>0.425</td>\n",
       "    </tr>\n",
       "    <tr>\n",
       "      <th>4</th>\n",
       "      <td>0.00</td>\n",
       "      <td>0.500</td>\n",
       "    </tr>\n",
       "    <tr>\n",
       "      <th>5</th>\n",
       "      <td>0.75</td>\n",
       "      <td>0.575</td>\n",
       "    </tr>\n",
       "    <tr>\n",
       "      <th>6</th>\n",
       "      <td>1.50</td>\n",
       "      <td>0.650</td>\n",
       "    </tr>\n",
       "    <tr>\n",
       "      <th>7</th>\n",
       "      <td>2.25</td>\n",
       "      <td>0.725</td>\n",
       "    </tr>\n",
       "    <tr>\n",
       "      <th>8</th>\n",
       "      <td>3.00</td>\n",
       "      <td>0.800</td>\n",
       "    </tr>\n",
       "  </tbody>\n",
       "</table>\n",
       "</div>"
      ],
      "text/plain": [
       "      x  trend\n",
       "0 -3.00  0.200\n",
       "1 -2.25  0.275\n",
       "2 -1.50  0.350\n",
       "3 -0.75  0.425\n",
       "4  0.00  0.500\n",
       "5  0.75  0.575\n",
       "6  1.50  0.650\n",
       "7  2.25  0.725\n",
       "8  3.00  0.800"
      ]
     },
     "execution_count": 25,
     "metadata": {},
     "output_type": "execute_result"
    }
   ],
   "source": [
    "df_mastercard_new"
   ]
  },
  {
   "cell_type": "code",
   "execution_count": 26,
   "metadata": {},
   "outputs": [],
   "source": [
    "rg = np.random.default_rng(2100)"
   ]
  },
  {
   "cell_type": "code",
   "execution_count": 27,
   "metadata": {},
   "outputs": [],
   "source": [
    "df_mastercard_new['y'] = rg.normal(loc=df_mastercard_new.trend, scale=my_sigma, size = df_mastercard_new.shape[0])"
   ]
  },
  {
   "cell_type": "code",
   "execution_count": 28,
   "metadata": {},
   "outputs": [
    {
     "data": {
      "text/html": [
       "<div>\n",
       "<style scoped>\n",
       "    .dataframe tbody tr th:only-of-type {\n",
       "        vertical-align: middle;\n",
       "    }\n",
       "\n",
       "    .dataframe tbody tr th {\n",
       "        vertical-align: top;\n",
       "    }\n",
       "\n",
       "    .dataframe thead th {\n",
       "        text-align: right;\n",
       "    }\n",
       "</style>\n",
       "<table border=\"1\" class=\"dataframe\">\n",
       "  <thead>\n",
       "    <tr style=\"text-align: right;\">\n",
       "      <th></th>\n",
       "      <th>x</th>\n",
       "      <th>trend</th>\n",
       "      <th>y</th>\n",
       "    </tr>\n",
       "  </thead>\n",
       "  <tbody>\n",
       "    <tr>\n",
       "      <th>0</th>\n",
       "      <td>-3.00</td>\n",
       "      <td>0.200</td>\n",
       "      <td>0.355686</td>\n",
       "    </tr>\n",
       "    <tr>\n",
       "      <th>1</th>\n",
       "      <td>-2.25</td>\n",
       "      <td>0.275</td>\n",
       "      <td>0.011482</td>\n",
       "    </tr>\n",
       "    <tr>\n",
       "      <th>2</th>\n",
       "      <td>-1.50</td>\n",
       "      <td>0.350</td>\n",
       "      <td>0.336427</td>\n",
       "    </tr>\n",
       "    <tr>\n",
       "      <th>3</th>\n",
       "      <td>-0.75</td>\n",
       "      <td>0.425</td>\n",
       "      <td>0.258750</td>\n",
       "    </tr>\n",
       "    <tr>\n",
       "      <th>4</th>\n",
       "      <td>0.00</td>\n",
       "      <td>0.500</td>\n",
       "      <td>0.548791</td>\n",
       "    </tr>\n",
       "    <tr>\n",
       "      <th>5</th>\n",
       "      <td>0.75</td>\n",
       "      <td>0.575</td>\n",
       "      <td>0.407313</td>\n",
       "    </tr>\n",
       "    <tr>\n",
       "      <th>6</th>\n",
       "      <td>1.50</td>\n",
       "      <td>0.650</td>\n",
       "      <td>0.532049</td>\n",
       "    </tr>\n",
       "    <tr>\n",
       "      <th>7</th>\n",
       "      <td>2.25</td>\n",
       "      <td>0.725</td>\n",
       "      <td>0.674889</td>\n",
       "    </tr>\n",
       "    <tr>\n",
       "      <th>8</th>\n",
       "      <td>3.00</td>\n",
       "      <td>0.800</td>\n",
       "      <td>0.579505</td>\n",
       "    </tr>\n",
       "  </tbody>\n",
       "</table>\n",
       "</div>"
      ],
      "text/plain": [
       "      x  trend         y\n",
       "0 -3.00  0.200  0.355686\n",
       "1 -2.25  0.275  0.011482\n",
       "2 -1.50  0.350  0.336427\n",
       "3 -0.75  0.425  0.258750\n",
       "4  0.00  0.500  0.548791\n",
       "5  0.75  0.575  0.407313\n",
       "6  1.50  0.650  0.532049\n",
       "7  2.25  0.725  0.674889\n",
       "8  3.00  0.800  0.579505"
      ]
     },
     "execution_count": 28,
     "metadata": {},
     "output_type": "execute_result"
    }
   ],
   "source": [
    "df_mastercard_new"
   ]
  },
  {
   "cell_type": "code",
   "execution_count": 29,
   "metadata": {},
   "outputs": [],
   "source": [
    "df_mastercard_new['true_intercept'] = my_intercept\n",
    "df_mastercard_new['true_slope'] = my_slope\n",
    "df_mastercard_new['true_sigma'] = my_sigma"
   ]
  },
  {
   "cell_type": "code",
   "execution_count": 30,
   "metadata": {},
   "outputs": [
    {
     "data": {
      "text/html": [
       "<div>\n",
       "<style scoped>\n",
       "    .dataframe tbody tr th:only-of-type {\n",
       "        vertical-align: middle;\n",
       "    }\n",
       "\n",
       "    .dataframe tbody tr th {\n",
       "        vertical-align: top;\n",
       "    }\n",
       "\n",
       "    .dataframe thead th {\n",
       "        text-align: right;\n",
       "    }\n",
       "</style>\n",
       "<table border=\"1\" class=\"dataframe\">\n",
       "  <thead>\n",
       "    <tr style=\"text-align: right;\">\n",
       "      <th></th>\n",
       "      <th>x</th>\n",
       "      <th>trend</th>\n",
       "      <th>y</th>\n",
       "      <th>true_intercept</th>\n",
       "      <th>true_slope</th>\n",
       "      <th>true_sigma</th>\n",
       "    </tr>\n",
       "  </thead>\n",
       "  <tbody>\n",
       "    <tr>\n",
       "      <th>0</th>\n",
       "      <td>-3.00</td>\n",
       "      <td>0.200</td>\n",
       "      <td>0.355686</td>\n",
       "      <td>0.5</td>\n",
       "      <td>0.1</td>\n",
       "      <td>0.152</td>\n",
       "    </tr>\n",
       "    <tr>\n",
       "      <th>1</th>\n",
       "      <td>-2.25</td>\n",
       "      <td>0.275</td>\n",
       "      <td>0.011482</td>\n",
       "      <td>0.5</td>\n",
       "      <td>0.1</td>\n",
       "      <td>0.152</td>\n",
       "    </tr>\n",
       "    <tr>\n",
       "      <th>2</th>\n",
       "      <td>-1.50</td>\n",
       "      <td>0.350</td>\n",
       "      <td>0.336427</td>\n",
       "      <td>0.5</td>\n",
       "      <td>0.1</td>\n",
       "      <td>0.152</td>\n",
       "    </tr>\n",
       "    <tr>\n",
       "      <th>3</th>\n",
       "      <td>-0.75</td>\n",
       "      <td>0.425</td>\n",
       "      <td>0.258750</td>\n",
       "      <td>0.5</td>\n",
       "      <td>0.1</td>\n",
       "      <td>0.152</td>\n",
       "    </tr>\n",
       "    <tr>\n",
       "      <th>4</th>\n",
       "      <td>0.00</td>\n",
       "      <td>0.500</td>\n",
       "      <td>0.548791</td>\n",
       "      <td>0.5</td>\n",
       "      <td>0.1</td>\n",
       "      <td>0.152</td>\n",
       "    </tr>\n",
       "    <tr>\n",
       "      <th>5</th>\n",
       "      <td>0.75</td>\n",
       "      <td>0.575</td>\n",
       "      <td>0.407313</td>\n",
       "      <td>0.5</td>\n",
       "      <td>0.1</td>\n",
       "      <td>0.152</td>\n",
       "    </tr>\n",
       "    <tr>\n",
       "      <th>6</th>\n",
       "      <td>1.50</td>\n",
       "      <td>0.650</td>\n",
       "      <td>0.532049</td>\n",
       "      <td>0.5</td>\n",
       "      <td>0.1</td>\n",
       "      <td>0.152</td>\n",
       "    </tr>\n",
       "    <tr>\n",
       "      <th>7</th>\n",
       "      <td>2.25</td>\n",
       "      <td>0.725</td>\n",
       "      <td>0.674889</td>\n",
       "      <td>0.5</td>\n",
       "      <td>0.1</td>\n",
       "      <td>0.152</td>\n",
       "    </tr>\n",
       "    <tr>\n",
       "      <th>8</th>\n",
       "      <td>3.00</td>\n",
       "      <td>0.800</td>\n",
       "      <td>0.579505</td>\n",
       "      <td>0.5</td>\n",
       "      <td>0.1</td>\n",
       "      <td>0.152</td>\n",
       "    </tr>\n",
       "  </tbody>\n",
       "</table>\n",
       "</div>"
      ],
      "text/plain": [
       "      x  trend         y  true_intercept  true_slope  true_sigma\n",
       "0 -3.00  0.200  0.355686             0.5         0.1       0.152\n",
       "1 -2.25  0.275  0.011482             0.5         0.1       0.152\n",
       "2 -1.50  0.350  0.336427             0.5         0.1       0.152\n",
       "3 -0.75  0.425  0.258750             0.5         0.1       0.152\n",
       "4  0.00  0.500  0.548791             0.5         0.1       0.152\n",
       "5  0.75  0.575  0.407313             0.5         0.1       0.152\n",
       "6  1.50  0.650  0.532049             0.5         0.1       0.152\n",
       "7  2.25  0.725  0.674889             0.5         0.1       0.152\n",
       "8  3.00  0.800  0.579505             0.5         0.1       0.152"
      ]
     },
     "execution_count": 30,
     "metadata": {},
     "output_type": "execute_result"
    }
   ],
   "source": [
    "df_mastercard_new"
   ]
  },
  {
   "cell_type": "markdown",
   "metadata": {},
   "source": [
    "Reviewing the non linear relationship, here the trend is linearly related with an unknown intercept and slope "
   ]
  },
  {
   "cell_type": "markdown",
   "metadata": {},
   "source": [
    "$$\\mu = \\beta_0 + \\beta_1 \\times \\sin(x) $$"
   ]
  },
  {
   "cell_type": "markdown",
   "metadata": {},
   "source": [
    "Visualizing the behaviour patter with an assumption of slope and intercept "
   ]
  },
  {
   "cell_type": "code",
   "execution_count": 31,
   "metadata": {},
   "outputs": [],
   "source": [
    "my_intercept = 0.25\n",
    "my_slope = -2.25"
   ]
  },
  {
   "cell_type": "code",
   "execution_count": 32,
   "metadata": {},
   "outputs": [],
   "source": [
    "df_mastercard_new = pd.DataFrame({'x':np.linspace(-3.14159, +3.14159, num=101)})"
   ]
  },
  {
   "cell_type": "code",
   "execution_count": 33,
   "metadata": {},
   "outputs": [
    {
     "data": {
      "text/html": [
       "<div>\n",
       "<style scoped>\n",
       "    .dataframe tbody tr th:only-of-type {\n",
       "        vertical-align: middle;\n",
       "    }\n",
       "\n",
       "    .dataframe tbody tr th {\n",
       "        vertical-align: top;\n",
       "    }\n",
       "\n",
       "    .dataframe thead th {\n",
       "        text-align: right;\n",
       "    }\n",
       "</style>\n",
       "<table border=\"1\" class=\"dataframe\">\n",
       "  <thead>\n",
       "    <tr style=\"text-align: right;\">\n",
       "      <th></th>\n",
       "      <th>x</th>\n",
       "    </tr>\n",
       "  </thead>\n",
       "  <tbody>\n",
       "    <tr>\n",
       "      <th>0</th>\n",
       "      <td>-3.141590</td>\n",
       "    </tr>\n",
       "    <tr>\n",
       "      <th>1</th>\n",
       "      <td>-3.078758</td>\n",
       "    </tr>\n",
       "    <tr>\n",
       "      <th>2</th>\n",
       "      <td>-3.015926</td>\n",
       "    </tr>\n",
       "    <tr>\n",
       "      <th>3</th>\n",
       "      <td>-2.953095</td>\n",
       "    </tr>\n",
       "    <tr>\n",
       "      <th>4</th>\n",
       "      <td>-2.890263</td>\n",
       "    </tr>\n",
       "    <tr>\n",
       "      <th>...</th>\n",
       "      <td>...</td>\n",
       "    </tr>\n",
       "    <tr>\n",
       "      <th>96</th>\n",
       "      <td>2.890263</td>\n",
       "    </tr>\n",
       "    <tr>\n",
       "      <th>97</th>\n",
       "      <td>2.953095</td>\n",
       "    </tr>\n",
       "    <tr>\n",
       "      <th>98</th>\n",
       "      <td>3.015926</td>\n",
       "    </tr>\n",
       "    <tr>\n",
       "      <th>99</th>\n",
       "      <td>3.078758</td>\n",
       "    </tr>\n",
       "    <tr>\n",
       "      <th>100</th>\n",
       "      <td>3.141590</td>\n",
       "    </tr>\n",
       "  </tbody>\n",
       "</table>\n",
       "<p>101 rows × 1 columns</p>\n",
       "</div>"
      ],
      "text/plain": [
       "            x\n",
       "0   -3.141590\n",
       "1   -3.078758\n",
       "2   -3.015926\n",
       "3   -2.953095\n",
       "4   -2.890263\n",
       "..        ...\n",
       "96   2.890263\n",
       "97   2.953095\n",
       "98   3.015926\n",
       "99   3.078758\n",
       "100  3.141590\n",
       "\n",
       "[101 rows x 1 columns]"
      ]
     },
     "execution_count": 33,
     "metadata": {},
     "output_type": "execute_result"
    }
   ],
   "source": [
    "df_mastercard_new"
   ]
  },
  {
   "cell_type": "code",
   "execution_count": 34,
   "metadata": {},
   "outputs": [],
   "source": [
    "df_mastercard_new['trend'] = my_intercept + my_slope * df_mastercard_new.x"
   ]
  },
  {
   "cell_type": "code",
   "execution_count": 35,
   "metadata": {},
   "outputs": [
    {
     "data": {
      "text/html": [
       "<div>\n",
       "<style scoped>\n",
       "    .dataframe tbody tr th:only-of-type {\n",
       "        vertical-align: middle;\n",
       "    }\n",
       "\n",
       "    .dataframe tbody tr th {\n",
       "        vertical-align: top;\n",
       "    }\n",
       "\n",
       "    .dataframe thead th {\n",
       "        text-align: right;\n",
       "    }\n",
       "</style>\n",
       "<table border=\"1\" class=\"dataframe\">\n",
       "  <thead>\n",
       "    <tr style=\"text-align: right;\">\n",
       "      <th></th>\n",
       "      <th>x</th>\n",
       "      <th>trend</th>\n",
       "    </tr>\n",
       "  </thead>\n",
       "  <tbody>\n",
       "    <tr>\n",
       "      <th>0</th>\n",
       "      <td>-3.141590</td>\n",
       "      <td>7.318577</td>\n",
       "    </tr>\n",
       "    <tr>\n",
       "      <th>1</th>\n",
       "      <td>-3.078758</td>\n",
       "      <td>7.177206</td>\n",
       "    </tr>\n",
       "    <tr>\n",
       "      <th>2</th>\n",
       "      <td>-3.015926</td>\n",
       "      <td>7.035834</td>\n",
       "    </tr>\n",
       "    <tr>\n",
       "      <th>3</th>\n",
       "      <td>-2.953095</td>\n",
       "      <td>6.894463</td>\n",
       "    </tr>\n",
       "    <tr>\n",
       "      <th>4</th>\n",
       "      <td>-2.890263</td>\n",
       "      <td>6.753091</td>\n",
       "    </tr>\n",
       "    <tr>\n",
       "      <th>...</th>\n",
       "      <td>...</td>\n",
       "      <td>...</td>\n",
       "    </tr>\n",
       "    <tr>\n",
       "      <th>96</th>\n",
       "      <td>2.890263</td>\n",
       "      <td>-6.253091</td>\n",
       "    </tr>\n",
       "    <tr>\n",
       "      <th>97</th>\n",
       "      <td>2.953095</td>\n",
       "      <td>-6.394463</td>\n",
       "    </tr>\n",
       "    <tr>\n",
       "      <th>98</th>\n",
       "      <td>3.015926</td>\n",
       "      <td>-6.535834</td>\n",
       "    </tr>\n",
       "    <tr>\n",
       "      <th>99</th>\n",
       "      <td>3.078758</td>\n",
       "      <td>-6.677206</td>\n",
       "    </tr>\n",
       "    <tr>\n",
       "      <th>100</th>\n",
       "      <td>3.141590</td>\n",
       "      <td>-6.818577</td>\n",
       "    </tr>\n",
       "  </tbody>\n",
       "</table>\n",
       "<p>101 rows × 2 columns</p>\n",
       "</div>"
      ],
      "text/plain": [
       "            x     trend\n",
       "0   -3.141590  7.318577\n",
       "1   -3.078758  7.177206\n",
       "2   -3.015926  7.035834\n",
       "3   -2.953095  6.894463\n",
       "4   -2.890263  6.753091\n",
       "..        ...       ...\n",
       "96   2.890263 -6.253091\n",
       "97   2.953095 -6.394463\n",
       "98   3.015926 -6.535834\n",
       "99   3.078758 -6.677206\n",
       "100  3.141590 -6.818577\n",
       "\n",
       "[101 rows x 2 columns]"
      ]
     },
     "execution_count": 35,
     "metadata": {},
     "output_type": "execute_result"
    }
   ],
   "source": [
    "df_mastercard_new"
   ]
  },
  {
   "cell_type": "code",
   "execution_count": 36,
   "metadata": {},
   "outputs": [],
   "source": [
    "df_mastercard_new['y'] = rg.normal(loc=df_mastercard_new.trend, scale=my_sigma, size = df_mastercard_new.shape[0])"
   ]
  },
  {
   "cell_type": "code",
   "execution_count": 37,
   "metadata": {},
   "outputs": [
    {
     "data": {
      "text/html": [
       "<div>\n",
       "<style scoped>\n",
       "    .dataframe tbody tr th:only-of-type {\n",
       "        vertical-align: middle;\n",
       "    }\n",
       "\n",
       "    .dataframe tbody tr th {\n",
       "        vertical-align: top;\n",
       "    }\n",
       "\n",
       "    .dataframe thead th {\n",
       "        text-align: right;\n",
       "    }\n",
       "</style>\n",
       "<table border=\"1\" class=\"dataframe\">\n",
       "  <thead>\n",
       "    <tr style=\"text-align: right;\">\n",
       "      <th></th>\n",
       "      <th>x</th>\n",
       "      <th>trend</th>\n",
       "      <th>y</th>\n",
       "    </tr>\n",
       "  </thead>\n",
       "  <tbody>\n",
       "    <tr>\n",
       "      <th>0</th>\n",
       "      <td>-3.141590</td>\n",
       "      <td>7.318577</td>\n",
       "      <td>7.481079</td>\n",
       "    </tr>\n",
       "    <tr>\n",
       "      <th>1</th>\n",
       "      <td>-3.078758</td>\n",
       "      <td>7.177206</td>\n",
       "      <td>7.146439</td>\n",
       "    </tr>\n",
       "    <tr>\n",
       "      <th>2</th>\n",
       "      <td>-3.015926</td>\n",
       "      <td>7.035834</td>\n",
       "      <td>6.840362</td>\n",
       "    </tr>\n",
       "    <tr>\n",
       "      <th>3</th>\n",
       "      <td>-2.953095</td>\n",
       "      <td>6.894463</td>\n",
       "      <td>6.865173</td>\n",
       "    </tr>\n",
       "    <tr>\n",
       "      <th>4</th>\n",
       "      <td>-2.890263</td>\n",
       "      <td>6.753091</td>\n",
       "      <td>6.567861</td>\n",
       "    </tr>\n",
       "    <tr>\n",
       "      <th>...</th>\n",
       "      <td>...</td>\n",
       "      <td>...</td>\n",
       "      <td>...</td>\n",
       "    </tr>\n",
       "    <tr>\n",
       "      <th>96</th>\n",
       "      <td>2.890263</td>\n",
       "      <td>-6.253091</td>\n",
       "      <td>-6.403818</td>\n",
       "    </tr>\n",
       "    <tr>\n",
       "      <th>97</th>\n",
       "      <td>2.953095</td>\n",
       "      <td>-6.394463</td>\n",
       "      <td>-6.634789</td>\n",
       "    </tr>\n",
       "    <tr>\n",
       "      <th>98</th>\n",
       "      <td>3.015926</td>\n",
       "      <td>-6.535834</td>\n",
       "      <td>-6.471781</td>\n",
       "    </tr>\n",
       "    <tr>\n",
       "      <th>99</th>\n",
       "      <td>3.078758</td>\n",
       "      <td>-6.677206</td>\n",
       "      <td>-7.001039</td>\n",
       "    </tr>\n",
       "    <tr>\n",
       "      <th>100</th>\n",
       "      <td>3.141590</td>\n",
       "      <td>-6.818577</td>\n",
       "      <td>-6.875624</td>\n",
       "    </tr>\n",
       "  </tbody>\n",
       "</table>\n",
       "<p>101 rows × 3 columns</p>\n",
       "</div>"
      ],
      "text/plain": [
       "            x     trend         y\n",
       "0   -3.141590  7.318577  7.481079\n",
       "1   -3.078758  7.177206  7.146439\n",
       "2   -3.015926  7.035834  6.840362\n",
       "3   -2.953095  6.894463  6.865173\n",
       "4   -2.890263  6.753091  6.567861\n",
       "..        ...       ...       ...\n",
       "96   2.890263 -6.253091 -6.403818\n",
       "97   2.953095 -6.394463 -6.634789\n",
       "98   3.015926 -6.535834 -6.471781\n",
       "99   3.078758 -6.677206 -7.001039\n",
       "100  3.141590 -6.818577 -6.875624\n",
       "\n",
       "[101 rows x 3 columns]"
      ]
     },
     "execution_count": 37,
     "metadata": {},
     "output_type": "execute_result"
    }
   ],
   "source": [
    "df_mastercard_new "
   ]
  },
  {
   "cell_type": "code",
   "execution_count": 38,
   "metadata": {},
   "outputs": [],
   "source": [
    "df_mastercard_new['trend'] = my_intercept + my_slope * np.sin(df_mastercard_new.x)"
   ]
  },
  {
   "cell_type": "code",
   "execution_count": 39,
   "metadata": {},
   "outputs": [],
   "source": [
    "sns.set_style('whitegrid')"
   ]
  },
  {
   "cell_type": "code",
   "execution_count": 40,
   "metadata": {},
   "outputs": [
    {
     "data": {
      "text/html": [
       "<div>\n",
       "<style scoped>\n",
       "    .dataframe tbody tr th:only-of-type {\n",
       "        vertical-align: middle;\n",
       "    }\n",
       "\n",
       "    .dataframe tbody tr th {\n",
       "        vertical-align: top;\n",
       "    }\n",
       "\n",
       "    .dataframe thead th {\n",
       "        text-align: right;\n",
       "    }\n",
       "</style>\n",
       "<table border=\"1\" class=\"dataframe\">\n",
       "  <thead>\n",
       "    <tr style=\"text-align: right;\">\n",
       "      <th></th>\n",
       "      <th>x</th>\n",
       "      <th>trend</th>\n",
       "      <th>y</th>\n",
       "    </tr>\n",
       "  </thead>\n",
       "  <tbody>\n",
       "    <tr>\n",
       "      <th>0</th>\n",
       "      <td>-3.141590</td>\n",
       "      <td>0.250006</td>\n",
       "      <td>7.481079</td>\n",
       "    </tr>\n",
       "    <tr>\n",
       "      <th>1</th>\n",
       "      <td>-3.078758</td>\n",
       "      <td>0.391285</td>\n",
       "      <td>7.146439</td>\n",
       "    </tr>\n",
       "    <tr>\n",
       "      <th>2</th>\n",
       "      <td>-3.015926</td>\n",
       "      <td>0.532005</td>\n",
       "      <td>6.840362</td>\n",
       "    </tr>\n",
       "    <tr>\n",
       "      <th>3</th>\n",
       "      <td>-2.953095</td>\n",
       "      <td>0.671613</td>\n",
       "      <td>6.865173</td>\n",
       "    </tr>\n",
       "    <tr>\n",
       "      <th>4</th>\n",
       "      <td>-2.890263</td>\n",
       "      <td>0.809558</td>\n",
       "      <td>6.567861</td>\n",
       "    </tr>\n",
       "    <tr>\n",
       "      <th>...</th>\n",
       "      <td>...</td>\n",
       "      <td>...</td>\n",
       "      <td>...</td>\n",
       "    </tr>\n",
       "    <tr>\n",
       "      <th>96</th>\n",
       "      <td>2.890263</td>\n",
       "      <td>-0.309558</td>\n",
       "      <td>-6.403818</td>\n",
       "    </tr>\n",
       "    <tr>\n",
       "      <th>97</th>\n",
       "      <td>2.953095</td>\n",
       "      <td>-0.171613</td>\n",
       "      <td>-6.634789</td>\n",
       "    </tr>\n",
       "    <tr>\n",
       "      <th>98</th>\n",
       "      <td>3.015926</td>\n",
       "      <td>-0.032005</td>\n",
       "      <td>-6.471781</td>\n",
       "    </tr>\n",
       "    <tr>\n",
       "      <th>99</th>\n",
       "      <td>3.078758</td>\n",
       "      <td>0.108715</td>\n",
       "      <td>-7.001039</td>\n",
       "    </tr>\n",
       "    <tr>\n",
       "      <th>100</th>\n",
       "      <td>3.141590</td>\n",
       "      <td>0.249994</td>\n",
       "      <td>-6.875624</td>\n",
       "    </tr>\n",
       "  </tbody>\n",
       "</table>\n",
       "<p>101 rows × 3 columns</p>\n",
       "</div>"
      ],
      "text/plain": [
       "            x     trend         y\n",
       "0   -3.141590  0.250006  7.481079\n",
       "1   -3.078758  0.391285  7.146439\n",
       "2   -3.015926  0.532005  6.840362\n",
       "3   -2.953095  0.671613  6.865173\n",
       "4   -2.890263  0.809558  6.567861\n",
       "..        ...       ...       ...\n",
       "96   2.890263 -0.309558 -6.403818\n",
       "97   2.953095 -0.171613 -6.634789\n",
       "98   3.015926 -0.032005 -6.471781\n",
       "99   3.078758  0.108715 -7.001039\n",
       "100  3.141590  0.249994 -6.875624\n",
       "\n",
       "[101 rows x 3 columns]"
      ]
     },
     "execution_count": 40,
     "metadata": {},
     "output_type": "execute_result"
    }
   ],
   "source": [
    "df_mastercard_new"
   ]
  },
  {
   "cell_type": "code",
   "execution_count": 41,
   "metadata": {},
   "outputs": [
    {
     "data": {
      "image/png": "[encoded data removed]",
      "text/plain": [
       "<Figure size 640x480 with 1 Axes>"
      ]
     },
     "metadata": {},
     "output_type": "display_data"
    }
   ],
   "source": [
    "fig, ax = plt.subplots()\n",
    "\n",
    "ax.plot(df_mastercard_new.x, df_mastercard_new.trend, color = 'crimson',linewidth = 1.5)\n",
    "ax.set_xlabel('x')\n",
    "ax.set_ylabel('Trend')\n",
    "plt.show()"
   ]
  },
  {
   "cell_type": "code",
   "execution_count": 42,
   "metadata": {},
   "outputs": [
    {
     "data": {
      "image/png": "[encoded data removed]",
      "text/plain": [
       "<Figure size 500x500 with 1 Axes>"
      ]
     },
     "metadata": {},
     "output_type": "display_data"
    }
   ],
   "source": [
    "sns.relplot(data=df_mastercard_new, x = 'x', y= 'trend')\n",
    "plt.show()"
   ]
  },
  {
   "cell_type": "markdown",
   "metadata": {},
   "source": [
    "Considering Sigma Value as 0.55, this gives the uncertainty around the trend line and dividend details "
   ]
  },
  {
   "cell_type": "code",
   "execution_count": 43,
   "metadata": {},
   "outputs": [],
   "source": [
    "my_sigma = 0.55"
   ]
  },
  {
   "cell_type": "code",
   "execution_count": 44,
   "metadata": {},
   "outputs": [],
   "source": [
    "df_mastercard_new['obs_lwr_68'] = df_mastercard_new.trend - my_sigma\n",
    "df_mastercard_new['obs_upr_68'] = df_mastercard_new.trend + my_sigma"
   ]
  },
  {
   "cell_type": "code",
   "execution_count": 45,
   "metadata": {},
   "outputs": [],
   "source": [
    "df_mastercard_new['obs_lwr_95'] = df_mastercard_new.trend - 2* my_sigma\n",
    "df_mastercard_new['obs_upr_95'] = df_mastercard_new.trend + 2* my_sigma "
   ]
  },
  {
   "cell_type": "code",
   "execution_count": 46,
   "metadata": {},
   "outputs": [
    {
     "data": {
      "text/html": [
       "<div>\n",
       "<style scoped>\n",
       "    .dataframe tbody tr th:only-of-type {\n",
       "        vertical-align: middle;\n",
       "    }\n",
       "\n",
       "    .dataframe tbody tr th {\n",
       "        vertical-align: top;\n",
       "    }\n",
       "\n",
       "    .dataframe thead th {\n",
       "        text-align: right;\n",
       "    }\n",
       "</style>\n",
       "<table border=\"1\" class=\"dataframe\">\n",
       "  <thead>\n",
       "    <tr style=\"text-align: right;\">\n",
       "      <th></th>\n",
       "      <th>x</th>\n",
       "      <th>trend</th>\n",
       "      <th>y</th>\n",
       "      <th>obs_lwr_68</th>\n",
       "      <th>obs_upr_68</th>\n",
       "      <th>obs_lwr_95</th>\n",
       "      <th>obs_upr_95</th>\n",
       "    </tr>\n",
       "  </thead>\n",
       "  <tbody>\n",
       "    <tr>\n",
       "      <th>0</th>\n",
       "      <td>-3.141590</td>\n",
       "      <td>0.250006</td>\n",
       "      <td>7.481079</td>\n",
       "      <td>-0.299994</td>\n",
       "      <td>0.800006</td>\n",
       "      <td>-0.849994</td>\n",
       "      <td>1.350006</td>\n",
       "    </tr>\n",
       "    <tr>\n",
       "      <th>1</th>\n",
       "      <td>-3.078758</td>\n",
       "      <td>0.391285</td>\n",
       "      <td>7.146439</td>\n",
       "      <td>-0.158715</td>\n",
       "      <td>0.941285</td>\n",
       "      <td>-0.708715</td>\n",
       "      <td>1.491285</td>\n",
       "    </tr>\n",
       "    <tr>\n",
       "      <th>2</th>\n",
       "      <td>-3.015926</td>\n",
       "      <td>0.532005</td>\n",
       "      <td>6.840362</td>\n",
       "      <td>-0.017995</td>\n",
       "      <td>1.082005</td>\n",
       "      <td>-0.567995</td>\n",
       "      <td>1.632005</td>\n",
       "    </tr>\n",
       "    <tr>\n",
       "      <th>3</th>\n",
       "      <td>-2.953095</td>\n",
       "      <td>0.671613</td>\n",
       "      <td>6.865173</td>\n",
       "      <td>0.121613</td>\n",
       "      <td>1.221613</td>\n",
       "      <td>-0.428387</td>\n",
       "      <td>1.771613</td>\n",
       "    </tr>\n",
       "    <tr>\n",
       "      <th>4</th>\n",
       "      <td>-2.890263</td>\n",
       "      <td>0.809558</td>\n",
       "      <td>6.567861</td>\n",
       "      <td>0.259558</td>\n",
       "      <td>1.359558</td>\n",
       "      <td>-0.290442</td>\n",
       "      <td>1.909558</td>\n",
       "    </tr>\n",
       "    <tr>\n",
       "      <th>...</th>\n",
       "      <td>...</td>\n",
       "      <td>...</td>\n",
       "      <td>...</td>\n",
       "      <td>...</td>\n",
       "      <td>...</td>\n",
       "      <td>...</td>\n",
       "      <td>...</td>\n",
       "    </tr>\n",
       "    <tr>\n",
       "      <th>96</th>\n",
       "      <td>2.890263</td>\n",
       "      <td>-0.309558</td>\n",
       "      <td>-6.403818</td>\n",
       "      <td>-0.859558</td>\n",
       "      <td>0.240442</td>\n",
       "      <td>-1.409558</td>\n",
       "      <td>0.790442</td>\n",
       "    </tr>\n",
       "    <tr>\n",
       "      <th>97</th>\n",
       "      <td>2.953095</td>\n",
       "      <td>-0.171613</td>\n",
       "      <td>-6.634789</td>\n",
       "      <td>-0.721613</td>\n",
       "      <td>0.378387</td>\n",
       "      <td>-1.271613</td>\n",
       "      <td>0.928387</td>\n",
       "    </tr>\n",
       "    <tr>\n",
       "      <th>98</th>\n",
       "      <td>3.015926</td>\n",
       "      <td>-0.032005</td>\n",
       "      <td>-6.471781</td>\n",
       "      <td>-0.582005</td>\n",
       "      <td>0.517995</td>\n",
       "      <td>-1.132005</td>\n",
       "      <td>1.067995</td>\n",
       "    </tr>\n",
       "    <tr>\n",
       "      <th>99</th>\n",
       "      <td>3.078758</td>\n",
       "      <td>0.108715</td>\n",
       "      <td>-7.001039</td>\n",
       "      <td>-0.441285</td>\n",
       "      <td>0.658715</td>\n",
       "      <td>-0.991285</td>\n",
       "      <td>1.208715</td>\n",
       "    </tr>\n",
       "    <tr>\n",
       "      <th>100</th>\n",
       "      <td>3.141590</td>\n",
       "      <td>0.249994</td>\n",
       "      <td>-6.875624</td>\n",
       "      <td>-0.300006</td>\n",
       "      <td>0.799994</td>\n",
       "      <td>-0.850006</td>\n",
       "      <td>1.349994</td>\n",
       "    </tr>\n",
       "  </tbody>\n",
       "</table>\n",
       "<p>101 rows × 7 columns</p>\n",
       "</div>"
      ],
      "text/plain": [
       "            x     trend         y  obs_lwr_68  obs_upr_68  obs_lwr_95  \\\n",
       "0   -3.141590  0.250006  7.481079   -0.299994    0.800006   -0.849994   \n",
       "1   -3.078758  0.391285  7.146439   -0.158715    0.941285   -0.708715   \n",
       "2   -3.015926  0.532005  6.840362   -0.017995    1.082005   -0.567995   \n",
       "3   -2.953095  0.671613  6.865173    0.121613    1.221613   -0.428387   \n",
       "4   -2.890263  0.809558  6.567861    0.259558    1.359558   -0.290442   \n",
       "..        ...       ...       ...         ...         ...         ...   \n",
       "96   2.890263 -0.309558 -6.403818   -0.859558    0.240442   -1.409558   \n",
       "97   2.953095 -0.171613 -6.634789   -0.721613    0.378387   -1.271613   \n",
       "98   3.015926 -0.032005 -6.471781   -0.582005    0.517995   -1.132005   \n",
       "99   3.078758  0.108715 -7.001039   -0.441285    0.658715   -0.991285   \n",
       "100  3.141590  0.249994 -6.875624   -0.300006    0.799994   -0.850006   \n",
       "\n",
       "     obs_upr_95  \n",
       "0      1.350006  \n",
       "1      1.491285  \n",
       "2      1.632005  \n",
       "3      1.771613  \n",
       "4      1.909558  \n",
       "..          ...  \n",
       "96     0.790442  \n",
       "97     0.928387  \n",
       "98     1.067995  \n",
       "99     1.208715  \n",
       "100    1.349994  \n",
       "\n",
       "[101 rows x 7 columns]"
      ]
     },
     "execution_count": 46,
     "metadata": {},
     "output_type": "execute_result"
    }
   ],
   "source": [
    "df_mastercard_new"
   ]
  },
  {
   "cell_type": "code",
   "execution_count": 47,
   "metadata": {},
   "outputs": [
    {
     "data": {
      "image/png": "[encoded data removed]",
      "text/plain": [
       "<Figure size 640x480 with 1 Axes>"
      ]
     },
     "metadata": {},
     "output_type": "display_data"
    }
   ],
   "source": [
    "fig, ax = plt.subplots()\n",
    "\n",
    "### True Trend \n",
    "ax.plot(df_mastercard_new.x, df_mastercard_new.trend, color = 'crimson', linewidth = 1.5)\n",
    "\n",
    "### Variation around the trend -2 sigma interval \n",
    "ax.fill_between(df_mastercard_new.x, df_mastercard_new.obs_lwr_95, df_mastercard_new.obs_upr_95, color = 'crimson', alpha = 0.2)\n",
    "\n",
    "### Variation around the trend - 1 sigma interval\n",
    "ax.fill_between(df_mastercard_new.x, df_mastercard_new.obs_lwr_68, df_mastercard_new.obs_upr_68, color = 'crimson', alpha = 0.5)\n",
    "\n",
    "### Plot the data\n",
    "ax.set_xlabel('X')\n",
    "ax.set_ylabel('Y')\n",
    "plt.show()"
   ]
  },
  {
   "cell_type": "markdown",
   "metadata": {},
   "source": [
    "Linear Model Fitting"
   ]
  },
  {
   "cell_type": "code",
   "execution_count": 48,
   "metadata": {},
   "outputs": [],
   "source": [
    "import numpy as np \n",
    "import pandas as pd\n",
    "import matplotlib.pyplot as plt \n",
    "\n",
    "import seaborn as sns"
   ]
  },
  {
   "cell_type": "code",
   "execution_count": 49,
   "metadata": {},
   "outputs": [
    {
     "name": "stdout",
     "output_type": "stream",
     "text": [
      "Variable            Type         Data/Info\n",
      "------------------------------------------\n",
      "ax                  Axes         Axes(0.125,0.11;0.775x0.77)\n",
      "df_mastercard       DataFrame                             <...>\\n\\n[74 rows x 2 columns]\n",
      "df_mastercard_new   DataFrame                x     trend  <...>n\\n[101 rows x 7 columns]\n",
      "fig                 Figure       Figure(640x480)\n",
      "my_intercept        float        0.25\n",
      "my_sigma            float        0.55\n",
      "my_slope            float        -2.25\n",
      "np                  module       <module 'numpy' from '/Us<...>kages/numpy/__init__.py'>\n",
      "pd                  module       <module 'pandas' from '/U<...>ages/pandas/__init__.py'>\n",
      "plt                 module       <module 'matplotlib.pyplo<...>es/matplotlib/pyplot.py'>\n",
      "rg                  Generator    Generator(PCG64)\n",
      "sns                 module       <module 'seaborn' from '/<...>ges/seaborn/__init__.py'>\n"
     ]
    }
   ],
   "source": [
    "%whos"
   ]
  },
  {
   "cell_type": "code",
   "execution_count": 50,
   "metadata": {},
   "outputs": [
    {
     "name": "stdout",
     "output_type": "stream",
     "text": [
      "<class 'pandas.core.frame.DataFrame'>\n",
      "RangeIndex: 74 entries, 0 to 73\n",
      "Data columns (total 2 columns):\n",
      " #   Column     Non-Null Count  Dtype  \n",
      "---  ------     --------------  -----  \n",
      " 0   Date       74 non-null     object \n",
      " 1   Dividends  74 non-null     float64\n",
      "dtypes: float64(1), object(1)\n",
      "memory usage: 1.3+ KB\n"
     ]
    }
   ],
   "source": [
    "df_mastercard.info()"
   ]
  },
  {
   "cell_type": "code",
   "execution_count": 51,
   "metadata": {},
   "outputs": [
    {
     "name": "stdout",
     "output_type": "stream",
     "text": [
      "<class 'pandas.core.frame.DataFrame'>\n",
      "RangeIndex: 101 entries, 0 to 100\n",
      "Data columns (total 7 columns):\n",
      " #   Column      Non-Null Count  Dtype  \n",
      "---  ------      --------------  -----  \n",
      " 0   x           101 non-null    float64\n",
      " 1   trend       101 non-null    float64\n",
      " 2   y           101 non-null    float64\n",
      " 3   obs_lwr_68  101 non-null    float64\n",
      " 4   obs_upr_68  101 non-null    float64\n",
      " 5   obs_lwr_95  101 non-null    float64\n",
      " 6   obs_upr_95  101 non-null    float64\n",
      "dtypes: float64(7)\n",
      "memory usage: 5.6 KB\n"
     ]
    }
   ],
   "source": [
    "df_mastercard_new.info()"
   ]
  },
  {
   "cell_type": "code",
   "execution_count": 52,
   "metadata": {},
   "outputs": [
    {
     "data": {
      "text/html": [
       "<div>\n",
       "<style scoped>\n",
       "    .dataframe tbody tr th:only-of-type {\n",
       "        vertical-align: middle;\n",
       "    }\n",
       "\n",
       "    .dataframe tbody tr th {\n",
       "        vertical-align: top;\n",
       "    }\n",
       "\n",
       "    .dataframe thead th {\n",
       "        text-align: right;\n",
       "    }\n",
       "</style>\n",
       "<table border=\"1\" class=\"dataframe\">\n",
       "  <thead>\n",
       "    <tr style=\"text-align: right;\">\n",
       "      <th></th>\n",
       "      <th>x</th>\n",
       "      <th>trend</th>\n",
       "      <th>y</th>\n",
       "      <th>obs_lwr_68</th>\n",
       "      <th>obs_upr_68</th>\n",
       "      <th>obs_lwr_95</th>\n",
       "      <th>obs_upr_95</th>\n",
       "    </tr>\n",
       "  </thead>\n",
       "  <tbody>\n",
       "    <tr>\n",
       "      <th>0</th>\n",
       "      <td>-3.141590</td>\n",
       "      <td>0.250006</td>\n",
       "      <td>7.481079</td>\n",
       "      <td>-0.299994</td>\n",
       "      <td>0.800006</td>\n",
       "      <td>-0.849994</td>\n",
       "      <td>1.350006</td>\n",
       "    </tr>\n",
       "    <tr>\n",
       "      <th>1</th>\n",
       "      <td>-3.078758</td>\n",
       "      <td>0.391285</td>\n",
       "      <td>7.146439</td>\n",
       "      <td>-0.158715</td>\n",
       "      <td>0.941285</td>\n",
       "      <td>-0.708715</td>\n",
       "      <td>1.491285</td>\n",
       "    </tr>\n",
       "    <tr>\n",
       "      <th>2</th>\n",
       "      <td>-3.015926</td>\n",
       "      <td>0.532005</td>\n",
       "      <td>6.840362</td>\n",
       "      <td>-0.017995</td>\n",
       "      <td>1.082005</td>\n",
       "      <td>-0.567995</td>\n",
       "      <td>1.632005</td>\n",
       "    </tr>\n",
       "    <tr>\n",
       "      <th>3</th>\n",
       "      <td>-2.953095</td>\n",
       "      <td>0.671613</td>\n",
       "      <td>6.865173</td>\n",
       "      <td>0.121613</td>\n",
       "      <td>1.221613</td>\n",
       "      <td>-0.428387</td>\n",
       "      <td>1.771613</td>\n",
       "    </tr>\n",
       "    <tr>\n",
       "      <th>4</th>\n",
       "      <td>-2.890263</td>\n",
       "      <td>0.809558</td>\n",
       "      <td>6.567861</td>\n",
       "      <td>0.259558</td>\n",
       "      <td>1.359558</td>\n",
       "      <td>-0.290442</td>\n",
       "      <td>1.909558</td>\n",
       "    </tr>\n",
       "    <tr>\n",
       "      <th>...</th>\n",
       "      <td>...</td>\n",
       "      <td>...</td>\n",
       "      <td>...</td>\n",
       "      <td>...</td>\n",
       "      <td>...</td>\n",
       "      <td>...</td>\n",
       "      <td>...</td>\n",
       "    </tr>\n",
       "    <tr>\n",
       "      <th>96</th>\n",
       "      <td>2.890263</td>\n",
       "      <td>-0.309558</td>\n",
       "      <td>-6.403818</td>\n",
       "      <td>-0.859558</td>\n",
       "      <td>0.240442</td>\n",
       "      <td>-1.409558</td>\n",
       "      <td>0.790442</td>\n",
       "    </tr>\n",
       "    <tr>\n",
       "      <th>97</th>\n",
       "      <td>2.953095</td>\n",
       "      <td>-0.171613</td>\n",
       "      <td>-6.634789</td>\n",
       "      <td>-0.721613</td>\n",
       "      <td>0.378387</td>\n",
       "      <td>-1.271613</td>\n",
       "      <td>0.928387</td>\n",
       "    </tr>\n",
       "    <tr>\n",
       "      <th>98</th>\n",
       "      <td>3.015926</td>\n",
       "      <td>-0.032005</td>\n",
       "      <td>-6.471781</td>\n",
       "      <td>-0.582005</td>\n",
       "      <td>0.517995</td>\n",
       "      <td>-1.132005</td>\n",
       "      <td>1.067995</td>\n",
       "    </tr>\n",
       "    <tr>\n",
       "      <th>99</th>\n",
       "      <td>3.078758</td>\n",
       "      <td>0.108715</td>\n",
       "      <td>-7.001039</td>\n",
       "      <td>-0.441285</td>\n",
       "      <td>0.658715</td>\n",
       "      <td>-0.991285</td>\n",
       "      <td>1.208715</td>\n",
       "    </tr>\n",
       "    <tr>\n",
       "      <th>100</th>\n",
       "      <td>3.141590</td>\n",
       "      <td>0.249994</td>\n",
       "      <td>-6.875624</td>\n",
       "      <td>-0.300006</td>\n",
       "      <td>0.799994</td>\n",
       "      <td>-0.850006</td>\n",
       "      <td>1.349994</td>\n",
       "    </tr>\n",
       "  </tbody>\n",
       "</table>\n",
       "<p>101 rows × 7 columns</p>\n",
       "</div>"
      ],
      "text/plain": [
       "            x     trend         y  obs_lwr_68  obs_upr_68  obs_lwr_95  \\\n",
       "0   -3.141590  0.250006  7.481079   -0.299994    0.800006   -0.849994   \n",
       "1   -3.078758  0.391285  7.146439   -0.158715    0.941285   -0.708715   \n",
       "2   -3.015926  0.532005  6.840362   -0.017995    1.082005   -0.567995   \n",
       "3   -2.953095  0.671613  6.865173    0.121613    1.221613   -0.428387   \n",
       "4   -2.890263  0.809558  6.567861    0.259558    1.359558   -0.290442   \n",
       "..        ...       ...       ...         ...         ...         ...   \n",
       "96   2.890263 -0.309558 -6.403818   -0.859558    0.240442   -1.409558   \n",
       "97   2.953095 -0.171613 -6.634789   -0.721613    0.378387   -1.271613   \n",
       "98   3.015926 -0.032005 -6.471781   -0.582005    0.517995   -1.132005   \n",
       "99   3.078758  0.108715 -7.001039   -0.441285    0.658715   -0.991285   \n",
       "100  3.141590  0.249994 -6.875624   -0.300006    0.799994   -0.850006   \n",
       "\n",
       "     obs_upr_95  \n",
       "0      1.350006  \n",
       "1      1.491285  \n",
       "2      1.632005  \n",
       "3      1.771613  \n",
       "4      1.909558  \n",
       "..          ...  \n",
       "96     0.790442  \n",
       "97     0.928387  \n",
       "98     1.067995  \n",
       "99     1.208715  \n",
       "100    1.349994  \n",
       "\n",
       "[101 rows x 7 columns]"
      ]
     },
     "execution_count": 52,
     "metadata": {},
     "output_type": "execute_result"
    }
   ],
   "source": [
    "df_mastercard_new\n"
   ]
  },
  {
   "cell_type": "markdown",
   "metadata": {},
   "source": [
    "We will fit the linear model between input (x) and output(y) : 'Output ~ Input'"
   ]
  },
  {
   "cell_type": "code",
   "execution_count": 54,
   "metadata": {},
   "outputs": [],
   "source": [
    "import statsmodels.formula.api as smf"
   ]
  },
  {
   "cell_type": "code",
   "execution_count": 55,
   "metadata": {},
   "outputs": [],
   "source": [
    "lm_fit = smf.ols(formula='y ~ x', data=df_mastercard_new).fit()"
   ]
  },
  {
   "cell_type": "code",
   "execution_count": 56,
   "metadata": {},
   "outputs": [
    {
     "data": {
      "text/plain": [
       "statsmodels.regression.linear_model.RegressionResultsWrapper"
      ]
     },
     "execution_count": 56,
     "metadata": {},
     "output_type": "execute_result"
    }
   ],
   "source": [
    "type(lm_fit)"
   ]
  },
  {
   "cell_type": "code",
   "execution_count": 57,
   "metadata": {},
   "outputs": [
    {
     "data": {
      "text/plain": [
       "['HC0_se',\n",
       " 'HC1_se',\n",
       " 'HC2_se',\n",
       " 'HC3_se',\n",
       " '_HCCM',\n",
       " '__class__',\n",
       " '__delattr__',\n",
       " '__dict__',\n",
       " '__dir__',\n",
       " '__doc__',\n",
       " '__eq__',\n",
       " '__format__',\n",
       " '__ge__',\n",
       " '__getattribute__',\n",
       " '__gt__',\n",
       " '__hash__',\n",
       " '__init__',\n",
       " '__init_subclass__',\n",
       " '__le__',\n",
       " '__lt__',\n",
       " '__module__',\n",
       " '__ne__',\n",
       " '__new__',\n",
       " '__reduce__',\n",
       " '__reduce_ex__',\n",
       " '__repr__',\n",
       " '__setattr__',\n",
       " '__sizeof__',\n",
       " '__str__',\n",
       " '__subclasshook__',\n",
       " '__weakref__',\n",
       " '_abat_diagonal',\n",
       " '_cache',\n",
       " '_data_attr',\n",
       " '_data_in_cache',\n",
       " '_get_robustcov_results',\n",
       " '_get_wald_nonlinear',\n",
       " '_is_nested',\n",
       " '_transform_predict_exog',\n",
       " '_use_t',\n",
       " '_wexog_singular_values',\n",
       " 'aic',\n",
       " 'bic',\n",
       " 'bse',\n",
       " 'centered_tss',\n",
       " 'compare_f_test',\n",
       " 'compare_lm_test',\n",
       " 'compare_lr_test',\n",
       " 'condition_number',\n",
       " 'conf_int',\n",
       " 'conf_int_el',\n",
       " 'cov_HC0',\n",
       " 'cov_HC1',\n",
       " 'cov_HC2',\n",
       " 'cov_HC3',\n",
       " 'cov_kwds',\n",
       " 'cov_params',\n",
       " 'cov_type',\n",
       " 'df_model',\n",
       " 'df_resid',\n",
       " 'eigenvals',\n",
       " 'el_test',\n",
       " 'ess',\n",
       " 'f_pvalue',\n",
       " 'f_test',\n",
       " 'fittedvalues',\n",
       " 'fvalue',\n",
       " 'get_influence',\n",
       " 'get_prediction',\n",
       " 'get_robustcov_results',\n",
       " 'info_criteria',\n",
       " 'initialize',\n",
       " 'k_constant',\n",
       " 'llf',\n",
       " 'load',\n",
       " 'model',\n",
       " 'mse_model',\n",
       " 'mse_resid',\n",
       " 'mse_total',\n",
       " 'nobs',\n",
       " 'normalized_cov_params',\n",
       " 'outlier_test',\n",
       " 'params',\n",
       " 'predict',\n",
       " 'pvalues',\n",
       " 'remove_data',\n",
       " 'resid',\n",
       " 'resid_pearson',\n",
       " 'rsquared',\n",
       " 'rsquared_adj',\n",
       " 'save',\n",
       " 'scale',\n",
       " 'ssr',\n",
       " 'summary',\n",
       " 'summary2',\n",
       " 't_test',\n",
       " 't_test_pairwise',\n",
       " 'tvalues',\n",
       " 'uncentered_tss',\n",
       " 'use_t',\n",
       " 'wald_test',\n",
       " 'wald_test_terms',\n",
       " 'wresid']"
      ]
     },
     "execution_count": 57,
     "metadata": {},
     "output_type": "execute_result"
    }
   ],
   "source": [
    "dir(lm_fit)"
   ]
  },
  {
   "cell_type": "code",
   "execution_count": 58,
   "metadata": {},
   "outputs": [
    {
     "data": {
      "text/html": [
       "<table class=\"simpletable\">\n",
       "<caption>OLS Regression Results</caption>\n",
       "<tr>\n",
       "  <th>Dep. Variable:</th>            <td>y</td>        <th>  R-squared:         </th> <td>   0.999</td> \n",
       "</tr>\n",
       "<tr>\n",
       "  <th>Model:</th>                   <td>OLS</td>       <th>  Adj. R-squared:    </th> <td>   0.999</td> \n",
       "</tr>\n",
       "<tr>\n",
       "  <th>Method:</th>             <td>Least Squares</td>  <th>  F-statistic:       </th> <td>8.546e+04</td>\n",
       "</tr>\n",
       "<tr>\n",
       "  <th>Date:</th>             <td>Thu, 15 May 2025</td> <th>  Prob (F-statistic):</th> <td>3.46e-147</td>\n",
       "</tr>\n",
       "<tr>\n",
       "  <th>Time:</th>                 <td>22:19:12</td>     <th>  Log-Likelihood:    </th> <td>  54.648</td> \n",
       "</tr>\n",
       "<tr>\n",
       "  <th>No. Observations:</th>      <td>   101</td>      <th>  AIC:               </th> <td>  -105.3</td> \n",
       "</tr>\n",
       "<tr>\n",
       "  <th>Df Residuals:</th>          <td>    99</td>      <th>  BIC:               </th> <td>  -100.1</td> \n",
       "</tr>\n",
       "<tr>\n",
       "  <th>Df Model:</th>              <td>     1</td>      <th>                     </th>     <td> </td>    \n",
       "</tr>\n",
       "<tr>\n",
       "  <th>Covariance Type:</th>      <td>nonrobust</td>    <th>                     </th>     <td> </td>    \n",
       "</tr>\n",
       "</table>\n",
       "<table class=\"simpletable\">\n",
       "<tr>\n",
       "      <td></td>         <th>coef</th>     <th>std err</th>      <th>t</th>      <th>P>|t|</th>  <th>[0.025</th>    <th>0.975]</th>  \n",
       "</tr>\n",
       "<tr>\n",
       "  <th>Intercept</th> <td>    0.2708</td> <td>    0.014</td> <td>   19.132</td> <td> 0.000</td> <td>    0.243</td> <td>    0.299</td>\n",
       "</tr>\n",
       "<tr>\n",
       "  <th>x</th>         <td>   -2.2593</td> <td>    0.008</td> <td> -292.344</td> <td> 0.000</td> <td>   -2.275</td> <td>   -2.244</td>\n",
       "</tr>\n",
       "</table>\n",
       "<table class=\"simpletable\">\n",
       "<tr>\n",
       "  <th>Omnibus:</th>       <td> 0.934</td> <th>  Durbin-Watson:     </th> <td>   1.983</td>\n",
       "</tr>\n",
       "<tr>\n",
       "  <th>Prob(Omnibus):</th> <td> 0.627</td> <th>  Jarque-Bera (JB):  </th> <td>   0.928</td>\n",
       "</tr>\n",
       "<tr>\n",
       "  <th>Skew:</th>          <td>-0.059</td> <th>  Prob(JB):          </th> <td>   0.629</td>\n",
       "</tr>\n",
       "<tr>\n",
       "  <th>Kurtosis:</th>      <td> 2.545</td> <th>  Cond. No.          </th> <td>    1.83</td>\n",
       "</tr>\n",
       "</table><br/><br/>Notes:<br/>[1] Standard Errors assume that the covariance matrix of the errors is correctly specified."
      ],
      "text/latex": [
       "\\begin{center}\n",
       "\\begin{tabular}{lclc}\n",
       "\\toprule\n",
       "\\textbf{Dep. Variable:}    &        y         & \\textbf{  R-squared:         } &     0.999   \\\\\n",
       "\\textbf{Model:}            &       OLS        & \\textbf{  Adj. R-squared:    } &     0.999   \\\\\n",
       "\\textbf{Method:}           &  Least Squares   & \\textbf{  F-statistic:       } & 8.546e+04   \\\\\n",
       "\\textbf{Date:}             & Thu, 15 May 2025 & \\textbf{  Prob (F-statistic):} & 3.46e-147   \\\\\n",
       "\\textbf{Time:}             &     22:19:12     & \\textbf{  Log-Likelihood:    } &    54.648   \\\\\n",
       "\\textbf{No. Observations:} &         101      & \\textbf{  AIC:               } &    -105.3   \\\\\n",
       "\\textbf{Df Residuals:}     &          99      & \\textbf{  BIC:               } &    -100.1   \\\\\n",
       "\\textbf{Df Model:}         &           1      & \\textbf{                     } &             \\\\\n",
       "\\textbf{Covariance Type:}  &    nonrobust     & \\textbf{                     } &             \\\\\n",
       "\\bottomrule\n",
       "\\end{tabular}\n",
       "\\begin{tabular}{lcccccc}\n",
       "                   & \\textbf{coef} & \\textbf{std err} & \\textbf{t} & \\textbf{P$> |$t$|$} & \\textbf{[0.025} & \\textbf{0.975]}  \\\\\n",
       "\\midrule\n",
       "\\textbf{Intercept} &       0.2708  &        0.014     &    19.132  &         0.000        &        0.243    &        0.299     \\\\\n",
       "\\textbf{x}         &      -2.2593  &        0.008     &  -292.344  &         0.000        &       -2.275    &       -2.244     \\\\\n",
       "\\bottomrule\n",
       "\\end{tabular}\n",
       "\\begin{tabular}{lclc}\n",
       "\\textbf{Omnibus:}       &  0.934 & \\textbf{  Durbin-Watson:     } &    1.983  \\\\\n",
       "\\textbf{Prob(Omnibus):} &  0.627 & \\textbf{  Jarque-Bera (JB):  } &    0.928  \\\\\n",
       "\\textbf{Skew:}          & -0.059 & \\textbf{  Prob(JB):          } &    0.629  \\\\\n",
       "\\textbf{Kurtosis:}      &  2.545 & \\textbf{  Cond. No.          } &     1.83  \\\\\n",
       "\\bottomrule\n",
       "\\end{tabular}\n",
       "%\\caption{OLS Regression Results}\n",
       "\\end{center}\n",
       "\n",
       "Notes: \\newline\n",
       " [1] Standard Errors assume that the covariance matrix of the errors is correctly specified."
      ],
      "text/plain": [
       "<class 'statsmodels.iolib.summary.Summary'>\n",
       "\"\"\"\n",
       "                            OLS Regression Results                            \n",
       "==============================================================================\n",
       "Dep. Variable:                      y   R-squared:                       0.999\n",
       "Model:                            OLS   Adj. R-squared:                  0.999\n",
       "Method:                 Least Squares   F-statistic:                 8.546e+04\n",
       "Date:                Thu, 15 May 2025   Prob (F-statistic):          3.46e-147\n",
       "Time:                        22:19:12   Log-Likelihood:                 54.648\n",
       "No. Observations:                 101   AIC:                            -105.3\n",
       "Df Residuals:                      99   BIC:                            -100.1\n",
       "Df Model:                           1                                         \n",
       "Covariance Type:            nonrobust                                         \n",
       "==============================================================================\n",
       "                 coef    std err          t      P>|t|      [0.025      0.975]\n",
       "------------------------------------------------------------------------------\n",
       "Intercept      0.2708      0.014     19.132      0.000       0.243       0.299\n",
       "x             -2.2593      0.008   -292.344      0.000      -2.275      -2.244\n",
       "==============================================================================\n",
       "Omnibus:                        0.934   Durbin-Watson:                   1.983\n",
       "Prob(Omnibus):                  0.627   Jarque-Bera (JB):                0.928\n",
       "Skew:                          -0.059   Prob(JB):                        0.629\n",
       "Kurtosis:                       2.545   Cond. No.                         1.83\n",
       "==============================================================================\n",
       "\n",
       "Notes:\n",
       "[1] Standard Errors assume that the covariance matrix of the errors is correctly specified.\n",
       "\"\"\""
      ]
     },
     "execution_count": 58,
     "metadata": {},
     "output_type": "execute_result"
    }
   ],
   "source": [
    "lm_fit.summary()"
   ]
  },
  {
   "cell_type": "markdown",
   "metadata": {},
   "source": [
    "Note : \n",
    "Linear Model Formula: \n",
    "\n",
    "$$\\mu = \\beta_0 + \\beta_1 \\times X $$"
   ]
  },
  {
   "cell_type": "code",
   "execution_count": 59,
   "metadata": {},
   "outputs": [
    {
     "data": {
      "text/plain": [
       "Intercept    0.270846\n",
       "x           -2.259253\n",
       "dtype: float64"
      ]
     },
     "execution_count": 59,
     "metadata": {},
     "output_type": "execute_result"
    }
   ],
   "source": [
    "lm_fit.params"
   ]
  },
  {
   "cell_type": "markdown",
   "metadata": {},
   "source": [
    "Standard error in the estimate is contained in '.bse' attribute. Most common standard error interval is +/- 2 standard error "
   ]
  },
  {
   "cell_type": "code",
   "execution_count": 61,
   "metadata": {},
   "outputs": [
    {
     "data": {
      "text/plain": [
       "Intercept    0.014157\n",
       "x            0.007728\n",
       "dtype: float64"
      ]
     },
     "execution_count": 61,
     "metadata": {},
     "output_type": "execute_result"
    }
   ],
   "source": [
    "lm_fit.bse"
   ]
  },
  {
   "cell_type": "code",
   "execution_count": 62,
   "metadata": {},
   "outputs": [
    {
     "data": {
      "text/plain": [
       "Intercept    0.242533\n",
       "x           -2.274709\n",
       "dtype: float64"
      ]
     },
     "execution_count": 62,
     "metadata": {},
     "output_type": "execute_result"
    }
   ],
   "source": [
    "lm_fit.params - 2 * lm_fit.bse"
   ]
  },
  {
   "cell_type": "code",
   "execution_count": 63,
   "metadata": {},
   "outputs": [
    {
     "data": {
      "text/plain": [
       "Intercept    0.299159\n",
       "x           -2.243797\n",
       "dtype: float64"
      ]
     },
     "execution_count": 63,
     "metadata": {},
     "output_type": "execute_result"
    }
   ],
   "source": [
    "lm_fit.params + 2 * lm_fit.bse"
   ]
  },
  {
   "cell_type": "code",
   "execution_count": 64,
   "metadata": {},
   "outputs": [
    {
     "data": {
      "text/html": [
       "<div>\n",
       "<style scoped>\n",
       "    .dataframe tbody tr th:only-of-type {\n",
       "        vertical-align: middle;\n",
       "    }\n",
       "\n",
       "    .dataframe tbody tr th {\n",
       "        vertical-align: top;\n",
       "    }\n",
       "\n",
       "    .dataframe thead th {\n",
       "        text-align: right;\n",
       "    }\n",
       "</style>\n",
       "<table border=\"1\" class=\"dataframe\">\n",
       "  <thead>\n",
       "    <tr style=\"text-align: right;\">\n",
       "      <th></th>\n",
       "      <th>0</th>\n",
       "      <th>1</th>\n",
       "    </tr>\n",
       "  </thead>\n",
       "  <tbody>\n",
       "    <tr>\n",
       "      <th>Intercept</th>\n",
       "      <td>0.242756</td>\n",
       "      <td>0.298936</td>\n",
       "    </tr>\n",
       "    <tr>\n",
       "      <th>x</th>\n",
       "      <td>-2.274587</td>\n",
       "      <td>-2.243919</td>\n",
       "    </tr>\n",
       "  </tbody>\n",
       "</table>\n",
       "</div>"
      ],
      "text/plain": [
       "                  0         1\n",
       "Intercept  0.242756  0.298936\n",
       "x         -2.274587 -2.243919"
      ]
     },
     "execution_count": 64,
     "metadata": {},
     "output_type": "execute_result"
    }
   ],
   "source": [
    "lm_fit.conf_int()"
   ]
  },
  {
   "cell_type": "code",
   "execution_count": 65,
   "metadata": {},
   "outputs": [
    {
     "data": {
      "text/plain": [
       "pandas.core.frame.DataFrame"
      ]
     },
     "execution_count": 65,
     "metadata": {},
     "output_type": "execute_result"
    }
   ],
   "source": [
    "type(lm_fit.conf_int())"
   ]
  },
  {
   "cell_type": "code",
   "execution_count": 66,
   "metadata": {},
   "outputs": [],
   "source": [
    "coef_fit_info = lm_fit.conf_int() .\\\n",
    "rename(columns = {0:'CI_Lower', 1 : 'CI_Upper'})"
   ]
  },
  {
   "cell_type": "code",
   "execution_count": 67,
   "metadata": {},
   "outputs": [
    {
     "data": {
      "text/html": [
       "<div>\n",
       "<style scoped>\n",
       "    .dataframe tbody tr th:only-of-type {\n",
       "        vertical-align: middle;\n",
       "    }\n",
       "\n",
       "    .dataframe tbody tr th {\n",
       "        vertical-align: top;\n",
       "    }\n",
       "\n",
       "    .dataframe thead th {\n",
       "        text-align: right;\n",
       "    }\n",
       "</style>\n",
       "<table border=\"1\" class=\"dataframe\">\n",
       "  <thead>\n",
       "    <tr style=\"text-align: right;\">\n",
       "      <th></th>\n",
       "      <th>CI_Lower</th>\n",
       "      <th>CI_Upper</th>\n",
       "    </tr>\n",
       "  </thead>\n",
       "  <tbody>\n",
       "    <tr>\n",
       "      <th>Intercept</th>\n",
       "      <td>0.242756</td>\n",
       "      <td>0.298936</td>\n",
       "    </tr>\n",
       "    <tr>\n",
       "      <th>x</th>\n",
       "      <td>-2.274587</td>\n",
       "      <td>-2.243919</td>\n",
       "    </tr>\n",
       "  </tbody>\n",
       "</table>\n",
       "</div>"
      ],
      "text/plain": [
       "           CI_Lower  CI_Upper\n",
       "Intercept  0.242756  0.298936\n",
       "x         -2.274587 -2.243919"
      ]
     },
     "execution_count": 67,
     "metadata": {},
     "output_type": "execute_result"
    }
   ],
   "source": [
    "coef_fit_info"
   ]
  },
  {
   "cell_type": "code",
   "execution_count": 68,
   "metadata": {},
   "outputs": [],
   "source": [
    "coef_fit_info['estimate'] = lm_fit.params"
   ]
  },
  {
   "cell_type": "code",
   "execution_count": 69,
   "metadata": {},
   "outputs": [],
   "source": [
    "coef_fit_info['estimate_se'] = lm_fit.bse"
   ]
  },
  {
   "cell_type": "code",
   "execution_count": 70,
   "metadata": {},
   "outputs": [
    {
     "data": {
      "text/html": [
       "<div>\n",
       "<style scoped>\n",
       "    .dataframe tbody tr th:only-of-type {\n",
       "        vertical-align: middle;\n",
       "    }\n",
       "\n",
       "    .dataframe tbody tr th {\n",
       "        vertical-align: top;\n",
       "    }\n",
       "\n",
       "    .dataframe thead th {\n",
       "        text-align: right;\n",
       "    }\n",
       "</style>\n",
       "<table border=\"1\" class=\"dataframe\">\n",
       "  <thead>\n",
       "    <tr style=\"text-align: right;\">\n",
       "      <th></th>\n",
       "      <th>CI_Lower</th>\n",
       "      <th>CI_Upper</th>\n",
       "      <th>estimate</th>\n",
       "      <th>estimate_se</th>\n",
       "    </tr>\n",
       "  </thead>\n",
       "  <tbody>\n",
       "    <tr>\n",
       "      <th>Intercept</th>\n",
       "      <td>0.242756</td>\n",
       "      <td>0.298936</td>\n",
       "      <td>0.270846</td>\n",
       "      <td>0.014157</td>\n",
       "    </tr>\n",
       "    <tr>\n",
       "      <th>x</th>\n",
       "      <td>-2.274587</td>\n",
       "      <td>-2.243919</td>\n",
       "      <td>-2.259253</td>\n",
       "      <td>0.007728</td>\n",
       "    </tr>\n",
       "  </tbody>\n",
       "</table>\n",
       "</div>"
      ],
      "text/plain": [
       "           CI_Lower  CI_Upper  estimate  estimate_se\n",
       "Intercept  0.242756  0.298936  0.270846     0.014157\n",
       "x         -2.274587 -2.243919 -2.259253     0.007728"
      ]
     },
     "execution_count": 70,
     "metadata": {},
     "output_type": "execute_result"
    }
   ],
   "source": [
    "coef_fit_info"
   ]
  },
  {
   "cell_type": "code",
   "execution_count": 71,
   "metadata": {},
   "outputs": [
    {
     "data": {
      "text/plain": [
       "Index(['Intercept', 'x'], dtype='object')"
      ]
     },
     "execution_count": 71,
     "metadata": {},
     "output_type": "execute_result"
    }
   ],
   "source": [
    "coef_fit_info.index"
   ]
  },
  {
   "cell_type": "markdown",
   "metadata": {},
   "source": [
    "Extracting the p values "
   ]
  },
  {
   "cell_type": "code",
   "execution_count": 72,
   "metadata": {},
   "outputs": [
    {
     "data": {
      "text/plain": [
       "Intercept     4.979157e-35\n",
       "x            3.458040e-147\n",
       "dtype: float64"
      ]
     },
     "execution_count": 72,
     "metadata": {},
     "output_type": "execute_result"
    }
   ],
   "source": [
    "lm_fit.pvalues"
   ]
  },
  {
   "cell_type": "code",
   "execution_count": 73,
   "metadata": {},
   "outputs": [
    {
     "data": {
      "text/plain": [
       "Intercept    True\n",
       "x            True\n",
       "dtype: bool"
      ]
     },
     "execution_count": 73,
     "metadata": {},
     "output_type": "execute_result"
    }
   ],
   "source": [
    "lm_fit.pvalues < 0.05"
   ]
  },
  {
   "cell_type": "code",
   "execution_count": 74,
   "metadata": {},
   "outputs": [
    {
     "data": {
      "text/html": [
       "<div>\n",
       "<style scoped>\n",
       "    .dataframe tbody tr th:only-of-type {\n",
       "        vertical-align: middle;\n",
       "    }\n",
       "\n",
       "    .dataframe tbody tr th {\n",
       "        vertical-align: top;\n",
       "    }\n",
       "\n",
       "    .dataframe thead th {\n",
       "        text-align: right;\n",
       "    }\n",
       "</style>\n",
       "<table border=\"1\" class=\"dataframe\">\n",
       "  <thead>\n",
       "    <tr style=\"text-align: right;\">\n",
       "      <th></th>\n",
       "      <th>CI_Lower</th>\n",
       "      <th>CI_Upper</th>\n",
       "      <th>estimate</th>\n",
       "      <th>estimate_se</th>\n",
       "    </tr>\n",
       "  </thead>\n",
       "  <tbody>\n",
       "    <tr>\n",
       "      <th>Intercept</th>\n",
       "      <td>0.242756</td>\n",
       "      <td>0.298936</td>\n",
       "      <td>0.270846</td>\n",
       "      <td>0.014157</td>\n",
       "    </tr>\n",
       "    <tr>\n",
       "      <th>x</th>\n",
       "      <td>-2.274587</td>\n",
       "      <td>-2.243919</td>\n",
       "      <td>-2.259253</td>\n",
       "      <td>0.007728</td>\n",
       "    </tr>\n",
       "  </tbody>\n",
       "</table>\n",
       "</div>"
      ],
      "text/plain": [
       "           CI_Lower  CI_Upper  estimate  estimate_se\n",
       "Intercept  0.242756  0.298936  0.270846     0.014157\n",
       "x         -2.274587 -2.243919 -2.259253     0.007728"
      ]
     },
     "execution_count": 74,
     "metadata": {},
     "output_type": "execute_result"
    }
   ],
   "source": [
    "coef_fit_info"
   ]
  },
  {
   "cell_type": "code",
   "execution_count": 75,
   "metadata": {},
   "outputs": [
    {
     "data": {
      "text/plain": [
       "Intercept    0.270846\n",
       "x           -2.259253\n",
       "dtype: float64"
      ]
     },
     "execution_count": 75,
     "metadata": {},
     "output_type": "execute_result"
    }
   ],
   "source": [
    "lm_fit.params"
   ]
  },
  {
   "cell_type": "code",
   "execution_count": 76,
   "metadata": {},
   "outputs": [
    {
     "data": {
      "text/plain": [
       "Intercept    0.014157\n",
       "x            0.007728\n",
       "dtype: float64"
      ]
     },
     "execution_count": 76,
     "metadata": {},
     "output_type": "execute_result"
    }
   ],
   "source": [
    "lm_fit.bse"
   ]
  },
  {
   "cell_type": "code",
   "execution_count": 77,
   "metadata": {},
   "outputs": [
    {
     "data": {
      "text/html": [
       "<div>\n",
       "<style scoped>\n",
       "    .dataframe tbody tr th:only-of-type {\n",
       "        vertical-align: middle;\n",
       "    }\n",
       "\n",
       "    .dataframe tbody tr th {\n",
       "        vertical-align: top;\n",
       "    }\n",
       "\n",
       "    .dataframe thead th {\n",
       "        text-align: right;\n",
       "    }\n",
       "</style>\n",
       "<table border=\"1\" class=\"dataframe\">\n",
       "  <thead>\n",
       "    <tr style=\"text-align: right;\">\n",
       "      <th></th>\n",
       "      <th>0</th>\n",
       "      <th>1</th>\n",
       "    </tr>\n",
       "  </thead>\n",
       "  <tbody>\n",
       "    <tr>\n",
       "      <th>Intercept</th>\n",
       "      <td>0.242756</td>\n",
       "      <td>0.298936</td>\n",
       "    </tr>\n",
       "    <tr>\n",
       "      <th>x</th>\n",
       "      <td>-2.274587</td>\n",
       "      <td>-2.243919</td>\n",
       "    </tr>\n",
       "  </tbody>\n",
       "</table>\n",
       "</div>"
      ],
      "text/plain": [
       "                  0         1\n",
       "Intercept  0.242756  0.298936\n",
       "x         -2.274587 -2.243919"
      ]
     },
     "execution_count": 77,
     "metadata": {},
     "output_type": "execute_result"
    }
   ],
   "source": [
    "lm_fit.conf_int()"
   ]
  },
  {
   "cell_type": "code",
   "execution_count": 78,
   "metadata": {},
   "outputs": [
    {
     "data": {
      "image/png": "[encoded data removed]",
      "text/plain": [
       "<Figure size 640x480 with 1 Axes>"
      ]
     },
     "metadata": {},
     "output_type": "display_data"
    }
   ],
   "source": [
    "fig, ax = plt.subplots()\n",
    "\n",
    "### Use the error methods to show the estimates and CI as error bars \n",
    "### Create Horizontal Error Bar \n",
    "ax.errorbar(y = coef_fit_info.index, \n",
    "            x = coef_fit_info.estimate, \n",
    "            xerr=2 * coef_fit_info.estimate_se,\n",
    "            fmt='o', color = 'k', linewidth = 2, ms = 10)\n",
    "\n",
    "### Include Vertical line: \n",
    "ax.axvline(x = 0, linestyle = '--', linewidth = 0.95, ms = 10)\n",
    "\n",
    "### Set the axis label : \n",
    "ax.set_xlabel(\"Coefficient Value\")\n",
    "ax.set_ylabel(\"Coefficient Name\")\n",
    "\n",
    "### Show the plot \n",
    "plt.show()"
   ]
  },
  {
   "cell_type": "code",
   "execution_count": 88,
   "metadata": {},
   "outputs": [
    {
     "data": {
      "image/png": "[encoded data removed]",
      "text/plain": [
       "<Figure size 640x480 with 1 Axes>"
      ]
     },
     "metadata": {},
     "output_type": "display_data"
    }
   ],
   "source": [
    "fig, ax = plt.subplots()\n",
    "\n",
    "### 95% CI around the estimate \n",
    "ax.errorbar(y = lm_fit.params.index,\n",
    "            x = lm_fit.params,\n",
    "            xerr= 2* lm_fit.bse, \n",
    "            fmt = 'o', color = 'k', elinewidth = 4, ms = 10)\n",
    "\n",
    "### Reference Line \n",
    "ax.axvline(x = 0, linestyle = '--', color = 'grey')\n",
    "\n",
    "### Axis label \n",
    "ax.set_xlabel('Coefficient Value ')\n",
    "ax.set_ylabel('Coefficient Name ')\n",
    "\n",
    "\n",
    "### Use the plot\n",
    "plt.show()"
   ]
  },
  {
   "cell_type": "code",
   "execution_count": 89,
   "metadata": {},
   "outputs": [
    {
     "data": {
      "text/html": [
       "<div>\n",
       "<style scoped>\n",
       "    .dataframe tbody tr th:only-of-type {\n",
       "        vertical-align: middle;\n",
       "    }\n",
       "\n",
       "    .dataframe tbody tr th {\n",
       "        vertical-align: top;\n",
       "    }\n",
       "\n",
       "    .dataframe thead th {\n",
       "        text-align: right;\n",
       "    }\n",
       "</style>\n",
       "<table border=\"1\" class=\"dataframe\">\n",
       "  <thead>\n",
       "    <tr style=\"text-align: right;\">\n",
       "      <th></th>\n",
       "      <th>0</th>\n",
       "      <th>1</th>\n",
       "    </tr>\n",
       "  </thead>\n",
       "  <tbody>\n",
       "    <tr>\n",
       "      <th>Intercept</th>\n",
       "      <td>0.242756</td>\n",
       "      <td>0.298936</td>\n",
       "    </tr>\n",
       "    <tr>\n",
       "      <th>x</th>\n",
       "      <td>-2.274587</td>\n",
       "      <td>-2.243919</td>\n",
       "    </tr>\n",
       "  </tbody>\n",
       "</table>\n",
       "</div>"
      ],
      "text/plain": [
       "                  0         1\n",
       "Intercept  0.242756  0.298936\n",
       "x         -2.274587 -2.243919"
      ]
     },
     "execution_count": 89,
     "metadata": {},
     "output_type": "execute_result"
    }
   ],
   "source": [
    "lm_fit.conf_int()"
   ]
  },
  {
   "cell_type": "code",
   "execution_count": 90,
   "metadata": {},
   "outputs": [
    {
     "name": "stdout",
     "output_type": "stream",
     "text": [
      "<class 'pandas.core.frame.DataFrame'>\n",
      "Index: 2 entries, Intercept to x\n",
      "Data columns (total 6 columns):\n",
      " #   Column       Non-Null Count  Dtype  \n",
      "---  ------       --------------  -----  \n",
      " 0   CI_Lower     2 non-null      float64\n",
      " 1   CI_Upper     2 non-null      float64\n",
      " 2   estimate     2 non-null      float64\n",
      " 3   estimate_se  2 non-null      float64\n",
      " 4   lower_error  2 non-null      float64\n",
      " 5   upper_error  2 non-null      float64\n",
      "dtypes: float64(6)\n",
      "memory usage: 220.0+ bytes\n"
     ]
    }
   ],
   "source": [
    "coef_fit_info.info()"
   ]
  },
  {
   "cell_type": "code",
   "execution_count": 91,
   "metadata": {},
   "outputs": [
    {
     "data": {
      "text/html": [
       "<div>\n",
       "<style scoped>\n",
       "    .dataframe tbody tr th:only-of-type {\n",
       "        vertical-align: middle;\n",
       "    }\n",
       "\n",
       "    .dataframe tbody tr th {\n",
       "        vertical-align: top;\n",
       "    }\n",
       "\n",
       "    .dataframe thead th {\n",
       "        text-align: right;\n",
       "    }\n",
       "</style>\n",
       "<table border=\"1\" class=\"dataframe\">\n",
       "  <thead>\n",
       "    <tr style=\"text-align: right;\">\n",
       "      <th></th>\n",
       "      <th>CI_Lower</th>\n",
       "      <th>CI_Upper</th>\n",
       "      <th>estimate</th>\n",
       "      <th>estimate_se</th>\n",
       "      <th>lower_error</th>\n",
       "      <th>upper_error</th>\n",
       "    </tr>\n",
       "  </thead>\n",
       "  <tbody>\n",
       "    <tr>\n",
       "      <th>Intercept</th>\n",
       "      <td>0.242756</td>\n",
       "      <td>0.298936</td>\n",
       "      <td>0.270846</td>\n",
       "      <td>0.014157</td>\n",
       "      <td>0.028090</td>\n",
       "      <td>0.028090</td>\n",
       "    </tr>\n",
       "    <tr>\n",
       "      <th>x</th>\n",
       "      <td>-2.274587</td>\n",
       "      <td>-2.243919</td>\n",
       "      <td>-2.259253</td>\n",
       "      <td>0.007728</td>\n",
       "      <td>0.015334</td>\n",
       "      <td>0.015334</td>\n",
       "    </tr>\n",
       "  </tbody>\n",
       "</table>\n",
       "</div>"
      ],
      "text/plain": [
       "           CI_Lower  CI_Upper  estimate  estimate_se  lower_error  upper_error\n",
       "Intercept  0.242756  0.298936  0.270846     0.014157     0.028090     0.028090\n",
       "x         -2.274587 -2.243919 -2.259253     0.007728     0.015334     0.015334"
      ]
     },
     "execution_count": 91,
     "metadata": {},
     "output_type": "execute_result"
    }
   ],
   "source": [
    "coef_fit_info"
   ]
  },
  {
   "cell_type": "markdown",
   "metadata": {},
   "source": [
    "We need to calculate the lower and upper change on the error based on the average"
   ]
  },
  {
   "cell_type": "code",
   "execution_count": 92,
   "metadata": {},
   "outputs": [],
   "source": [
    "coef_fit_info['lower_error'] = coef_fit_info.estimate - coef_fit_info.CI_Lower\n",
    "coef_fit_info['upper_error'] = coef_fit_info.CI_Upper - coef_fit_info.estimate"
   ]
  },
  {
   "cell_type": "code",
   "execution_count": 93,
   "metadata": {},
   "outputs": [
    {
     "data": {
      "text/html": [
       "<div>\n",
       "<style scoped>\n",
       "    .dataframe tbody tr th:only-of-type {\n",
       "        vertical-align: middle;\n",
       "    }\n",
       "\n",
       "    .dataframe tbody tr th {\n",
       "        vertical-align: top;\n",
       "    }\n",
       "\n",
       "    .dataframe thead th {\n",
       "        text-align: right;\n",
       "    }\n",
       "</style>\n",
       "<table border=\"1\" class=\"dataframe\">\n",
       "  <thead>\n",
       "    <tr style=\"text-align: right;\">\n",
       "      <th></th>\n",
       "      <th>CI_Lower</th>\n",
       "      <th>CI_Upper</th>\n",
       "      <th>estimate</th>\n",
       "      <th>estimate_se</th>\n",
       "      <th>lower_error</th>\n",
       "      <th>upper_error</th>\n",
       "    </tr>\n",
       "  </thead>\n",
       "  <tbody>\n",
       "    <tr>\n",
       "      <th>Intercept</th>\n",
       "      <td>0.242756</td>\n",
       "      <td>0.298936</td>\n",
       "      <td>0.270846</td>\n",
       "      <td>0.014157</td>\n",
       "      <td>0.028090</td>\n",
       "      <td>0.028090</td>\n",
       "    </tr>\n",
       "    <tr>\n",
       "      <th>x</th>\n",
       "      <td>-2.274587</td>\n",
       "      <td>-2.243919</td>\n",
       "      <td>-2.259253</td>\n",
       "      <td>0.007728</td>\n",
       "      <td>0.015334</td>\n",
       "      <td>0.015334</td>\n",
       "    </tr>\n",
       "  </tbody>\n",
       "</table>\n",
       "</div>"
      ],
      "text/plain": [
       "           CI_Lower  CI_Upper  estimate  estimate_se  lower_error  upper_error\n",
       "Intercept  0.242756  0.298936  0.270846     0.014157     0.028090     0.028090\n",
       "x         -2.274587 -2.243919 -2.259253     0.007728     0.015334     0.015334"
      ]
     },
     "execution_count": 93,
     "metadata": {},
     "output_type": "execute_result"
    }
   ],
   "source": [
    "coef_fit_info"
   ]
  },
  {
   "cell_type": "code",
   "execution_count": 94,
   "metadata": {},
   "outputs": [
    {
     "data": {
      "image/png": "[encoded data removed]",
      "text/plain": [
       "<Figure size 640x480 with 1 Axes>"
      ]
     },
     "metadata": {},
     "output_type": "display_data"
    }
   ],
   "source": [
    "fig, ax = plt.subplots()\n",
    "\n",
    "ax.errorbar(y = coef_fit_info.index, \n",
    "            x = coef_fit_info.estimate, \n",
    "            xerr=[coef_fit_info.lower_error, coef_fit_info.upper_error],\n",
    "            fmt='o', color = 'k', elinewidth=3, ms = 10)\n",
    "\n",
    "ax.axvline(x = 0, linestyle = '--', linewidth = 5, color = 'grey')\n",
    "\n",
    "ax.set_xlabel('Coefficient Value ')\n",
    "ax.set_ylabel('Coefficient Name')\n",
    "plt.show()"
   ]
  },
  {
   "cell_type": "code",
   "execution_count": 95,
   "metadata": {},
   "outputs": [
    {
     "data": {
      "text/html": [
       "<div>\n",
       "<style scoped>\n",
       "    .dataframe tbody tr th:only-of-type {\n",
       "        vertical-align: middle;\n",
       "    }\n",
       "\n",
       "    .dataframe tbody tr th {\n",
       "        vertical-align: top;\n",
       "    }\n",
       "\n",
       "    .dataframe thead th {\n",
       "        text-align: right;\n",
       "    }\n",
       "</style>\n",
       "<table border=\"1\" class=\"dataframe\">\n",
       "  <thead>\n",
       "    <tr style=\"text-align: right;\">\n",
       "      <th></th>\n",
       "      <th>x</th>\n",
       "      <th>trend</th>\n",
       "      <th>y</th>\n",
       "      <th>obs_lwr_68</th>\n",
       "      <th>obs_upr_68</th>\n",
       "      <th>obs_lwr_95</th>\n",
       "      <th>obs_upr_95</th>\n",
       "    </tr>\n",
       "  </thead>\n",
       "  <tbody>\n",
       "    <tr>\n",
       "      <th>0</th>\n",
       "      <td>-3.141590</td>\n",
       "      <td>0.250006</td>\n",
       "      <td>7.481079</td>\n",
       "      <td>-0.299994</td>\n",
       "      <td>0.800006</td>\n",
       "      <td>-0.849994</td>\n",
       "      <td>1.350006</td>\n",
       "    </tr>\n",
       "    <tr>\n",
       "      <th>1</th>\n",
       "      <td>-3.078758</td>\n",
       "      <td>0.391285</td>\n",
       "      <td>7.146439</td>\n",
       "      <td>-0.158715</td>\n",
       "      <td>0.941285</td>\n",
       "      <td>-0.708715</td>\n",
       "      <td>1.491285</td>\n",
       "    </tr>\n",
       "    <tr>\n",
       "      <th>2</th>\n",
       "      <td>-3.015926</td>\n",
       "      <td>0.532005</td>\n",
       "      <td>6.840362</td>\n",
       "      <td>-0.017995</td>\n",
       "      <td>1.082005</td>\n",
       "      <td>-0.567995</td>\n",
       "      <td>1.632005</td>\n",
       "    </tr>\n",
       "    <tr>\n",
       "      <th>3</th>\n",
       "      <td>-2.953095</td>\n",
       "      <td>0.671613</td>\n",
       "      <td>6.865173</td>\n",
       "      <td>0.121613</td>\n",
       "      <td>1.221613</td>\n",
       "      <td>-0.428387</td>\n",
       "      <td>1.771613</td>\n",
       "    </tr>\n",
       "    <tr>\n",
       "      <th>4</th>\n",
       "      <td>-2.890263</td>\n",
       "      <td>0.809558</td>\n",
       "      <td>6.567861</td>\n",
       "      <td>0.259558</td>\n",
       "      <td>1.359558</td>\n",
       "      <td>-0.290442</td>\n",
       "      <td>1.909558</td>\n",
       "    </tr>\n",
       "    <tr>\n",
       "      <th>...</th>\n",
       "      <td>...</td>\n",
       "      <td>...</td>\n",
       "      <td>...</td>\n",
       "      <td>...</td>\n",
       "      <td>...</td>\n",
       "      <td>...</td>\n",
       "      <td>...</td>\n",
       "    </tr>\n",
       "    <tr>\n",
       "      <th>96</th>\n",
       "      <td>2.890263</td>\n",
       "      <td>-0.309558</td>\n",
       "      <td>-6.403818</td>\n",
       "      <td>-0.859558</td>\n",
       "      <td>0.240442</td>\n",
       "      <td>-1.409558</td>\n",
       "      <td>0.790442</td>\n",
       "    </tr>\n",
       "    <tr>\n",
       "      <th>97</th>\n",
       "      <td>2.953095</td>\n",
       "      <td>-0.171613</td>\n",
       "      <td>-6.634789</td>\n",
       "      <td>-0.721613</td>\n",
       "      <td>0.378387</td>\n",
       "      <td>-1.271613</td>\n",
       "      <td>0.928387</td>\n",
       "    </tr>\n",
       "    <tr>\n",
       "      <th>98</th>\n",
       "      <td>3.015926</td>\n",
       "      <td>-0.032005</td>\n",
       "      <td>-6.471781</td>\n",
       "      <td>-0.582005</td>\n",
       "      <td>0.517995</td>\n",
       "      <td>-1.132005</td>\n",
       "      <td>1.067995</td>\n",
       "    </tr>\n",
       "    <tr>\n",
       "      <th>99</th>\n",
       "      <td>3.078758</td>\n",
       "      <td>0.108715</td>\n",
       "      <td>-7.001039</td>\n",
       "      <td>-0.441285</td>\n",
       "      <td>0.658715</td>\n",
       "      <td>-0.991285</td>\n",
       "      <td>1.208715</td>\n",
       "    </tr>\n",
       "    <tr>\n",
       "      <th>100</th>\n",
       "      <td>3.141590</td>\n",
       "      <td>0.249994</td>\n",
       "      <td>-6.875624</td>\n",
       "      <td>-0.300006</td>\n",
       "      <td>0.799994</td>\n",
       "      <td>-0.850006</td>\n",
       "      <td>1.349994</td>\n",
       "    </tr>\n",
       "  </tbody>\n",
       "</table>\n",
       "<p>101 rows × 7 columns</p>\n",
       "</div>"
      ],
      "text/plain": [
       "            x     trend         y  obs_lwr_68  obs_upr_68  obs_lwr_95  \\\n",
       "0   -3.141590  0.250006  7.481079   -0.299994    0.800006   -0.849994   \n",
       "1   -3.078758  0.391285  7.146439   -0.158715    0.941285   -0.708715   \n",
       "2   -3.015926  0.532005  6.840362   -0.017995    1.082005   -0.567995   \n",
       "3   -2.953095  0.671613  6.865173    0.121613    1.221613   -0.428387   \n",
       "4   -2.890263  0.809558  6.567861    0.259558    1.359558   -0.290442   \n",
       "..        ...       ...       ...         ...         ...         ...   \n",
       "96   2.890263 -0.309558 -6.403818   -0.859558    0.240442   -1.409558   \n",
       "97   2.953095 -0.171613 -6.634789   -0.721613    0.378387   -1.271613   \n",
       "98   3.015926 -0.032005 -6.471781   -0.582005    0.517995   -1.132005   \n",
       "99   3.078758  0.108715 -7.001039   -0.441285    0.658715   -0.991285   \n",
       "100  3.141590  0.249994 -6.875624   -0.300006    0.799994   -0.850006   \n",
       "\n",
       "     obs_upr_95  \n",
       "0      1.350006  \n",
       "1      1.491285  \n",
       "2      1.632005  \n",
       "3      1.771613  \n",
       "4      1.909558  \n",
       "..          ...  \n",
       "96     0.790442  \n",
       "97     0.928387  \n",
       "98     1.067995  \n",
       "99     1.208715  \n",
       "100    1.349994  \n",
       "\n",
       "[101 rows x 7 columns]"
      ]
     },
     "execution_count": 95,
     "metadata": {},
     "output_type": "execute_result"
    }
   ],
   "source": [
    "df_mastercard_new"
   ]
  },
  {
   "cell_type": "code",
   "execution_count": 103,
   "metadata": {},
   "outputs": [
    {
     "data": {
      "text/html": [
       "<div>\n",
       "<style scoped>\n",
       "    .dataframe tbody tr th:only-of-type {\n",
       "        vertical-align: middle;\n",
       "    }\n",
       "\n",
       "    .dataframe tbody tr th {\n",
       "        vertical-align: top;\n",
       "    }\n",
       "\n",
       "    .dataframe thead th {\n",
       "        text-align: right;\n",
       "    }\n",
       "</style>\n",
       "<table border=\"1\" class=\"dataframe\">\n",
       "  <thead>\n",
       "    <tr style=\"text-align: right;\">\n",
       "      <th></th>\n",
       "      <th>x</th>\n",
       "      <th>trend</th>\n",
       "      <th>y</th>\n",
       "      <th>obs_lwr_68</th>\n",
       "      <th>obs_upr_68</th>\n",
       "      <th>obs_lwr_95</th>\n",
       "      <th>obs_upr_95</th>\n",
       "    </tr>\n",
       "  </thead>\n",
       "  <tbody>\n",
       "    <tr>\n",
       "      <th>0</th>\n",
       "      <td>-3.141590</td>\n",
       "      <td>0.250006</td>\n",
       "      <td>7.481079</td>\n",
       "      <td>-0.299994</td>\n",
       "      <td>0.800006</td>\n",
       "      <td>-0.849994</td>\n",
       "      <td>1.350006</td>\n",
       "    </tr>\n",
       "    <tr>\n",
       "      <th>1</th>\n",
       "      <td>-3.078758</td>\n",
       "      <td>0.391285</td>\n",
       "      <td>7.146439</td>\n",
       "      <td>-0.158715</td>\n",
       "      <td>0.941285</td>\n",
       "      <td>-0.708715</td>\n",
       "      <td>1.491285</td>\n",
       "    </tr>\n",
       "    <tr>\n",
       "      <th>2</th>\n",
       "      <td>-3.015926</td>\n",
       "      <td>0.532005</td>\n",
       "      <td>6.840362</td>\n",
       "      <td>-0.017995</td>\n",
       "      <td>1.082005</td>\n",
       "      <td>-0.567995</td>\n",
       "      <td>1.632005</td>\n",
       "    </tr>\n",
       "    <tr>\n",
       "      <th>3</th>\n",
       "      <td>-2.953095</td>\n",
       "      <td>0.671613</td>\n",
       "      <td>6.865173</td>\n",
       "      <td>0.121613</td>\n",
       "      <td>1.221613</td>\n",
       "      <td>-0.428387</td>\n",
       "      <td>1.771613</td>\n",
       "    </tr>\n",
       "    <tr>\n",
       "      <th>4</th>\n",
       "      <td>-2.890263</td>\n",
       "      <td>0.809558</td>\n",
       "      <td>6.567861</td>\n",
       "      <td>0.259558</td>\n",
       "      <td>1.359558</td>\n",
       "      <td>-0.290442</td>\n",
       "      <td>1.909558</td>\n",
       "    </tr>\n",
       "    <tr>\n",
       "      <th>...</th>\n",
       "      <td>...</td>\n",
       "      <td>...</td>\n",
       "      <td>...</td>\n",
       "      <td>...</td>\n",
       "      <td>...</td>\n",
       "      <td>...</td>\n",
       "      <td>...</td>\n",
       "    </tr>\n",
       "    <tr>\n",
       "      <th>96</th>\n",
       "      <td>2.890263</td>\n",
       "      <td>-0.309558</td>\n",
       "      <td>-6.403818</td>\n",
       "      <td>-0.859558</td>\n",
       "      <td>0.240442</td>\n",
       "      <td>-1.409558</td>\n",
       "      <td>0.790442</td>\n",
       "    </tr>\n",
       "    <tr>\n",
       "      <th>97</th>\n",
       "      <td>2.953095</td>\n",
       "      <td>-0.171613</td>\n",
       "      <td>-6.634789</td>\n",
       "      <td>-0.721613</td>\n",
       "      <td>0.378387</td>\n",
       "      <td>-1.271613</td>\n",
       "      <td>0.928387</td>\n",
       "    </tr>\n",
       "    <tr>\n",
       "      <th>98</th>\n",
       "      <td>3.015926</td>\n",
       "      <td>-0.032005</td>\n",
       "      <td>-6.471781</td>\n",
       "      <td>-0.582005</td>\n",
       "      <td>0.517995</td>\n",
       "      <td>-1.132005</td>\n",
       "      <td>1.067995</td>\n",
       "    </tr>\n",
       "    <tr>\n",
       "      <th>99</th>\n",
       "      <td>3.078758</td>\n",
       "      <td>0.108715</td>\n",
       "      <td>-7.001039</td>\n",
       "      <td>-0.441285</td>\n",
       "      <td>0.658715</td>\n",
       "      <td>-0.991285</td>\n",
       "      <td>1.208715</td>\n",
       "    </tr>\n",
       "    <tr>\n",
       "      <th>100</th>\n",
       "      <td>3.141590</td>\n",
       "      <td>0.249994</td>\n",
       "      <td>-6.875624</td>\n",
       "      <td>-0.300006</td>\n",
       "      <td>0.799994</td>\n",
       "      <td>-0.850006</td>\n",
       "      <td>1.349994</td>\n",
       "    </tr>\n",
       "  </tbody>\n",
       "</table>\n",
       "<p>101 rows × 7 columns</p>\n",
       "</div>"
      ],
      "text/plain": [
       "            x     trend         y  obs_lwr_68  obs_upr_68  obs_lwr_95  \\\n",
       "0   -3.141590  0.250006  7.481079   -0.299994    0.800006   -0.849994   \n",
       "1   -3.078758  0.391285  7.146439   -0.158715    0.941285   -0.708715   \n",
       "2   -3.015926  0.532005  6.840362   -0.017995    1.082005   -0.567995   \n",
       "3   -2.953095  0.671613  6.865173    0.121613    1.221613   -0.428387   \n",
       "4   -2.890263  0.809558  6.567861    0.259558    1.359558   -0.290442   \n",
       "..        ...       ...       ...         ...         ...         ...   \n",
       "96   2.890263 -0.309558 -6.403818   -0.859558    0.240442   -1.409558   \n",
       "97   2.953095 -0.171613 -6.634789   -0.721613    0.378387   -1.271613   \n",
       "98   3.015926 -0.032005 -6.471781   -0.582005    0.517995   -1.132005   \n",
       "99   3.078758  0.108715 -7.001039   -0.441285    0.658715   -0.991285   \n",
       "100  3.141590  0.249994 -6.875624   -0.300006    0.799994   -0.850006   \n",
       "\n",
       "     obs_upr_95  \n",
       "0      1.350006  \n",
       "1      1.491285  \n",
       "2      1.632005  \n",
       "3      1.771613  \n",
       "4      1.909558  \n",
       "..          ...  \n",
       "96     0.790442  \n",
       "97     0.928387  \n",
       "98     1.067995  \n",
       "99     1.208715  \n",
       "100    1.349994  \n",
       "\n",
       "[101 rows x 7 columns]"
      ]
     },
     "execution_count": 103,
     "metadata": {},
     "output_type": "execute_result"
    }
   ],
   "source": [
    "df_mastercard_new"
   ]
  },
  {
   "cell_type": "code",
   "execution_count": null,
   "metadata": {},
   "outputs": [],
   "source": []
  }
 ],
 "metadata": {
  "kernelspec": {
   "display_name": "study",
   "language": "python",
   "name": "python3"
  },
  "language_info": {
   "codemirror_mode": {
    "name": "ipython",
    "version": 3
   },
   "file_extension": ".py",
   "mimetype": "text/x-python",
   "name": "python",
   "nbconvert_exporter": "python",
   "pygments_lexer": "ipython3",
   "version": "3.9.16"
  }
 },
 "nbformat": 4,
 "nbformat_minor": 2
}
