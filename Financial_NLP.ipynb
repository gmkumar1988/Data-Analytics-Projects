{
 "cells": [
  {
   "cell_type": "code",
   "execution_count": 1,
   "id": "9bdab0f2",
   "metadata": {},
   "outputs": [],
   "source": [
    "import numpy as np\n",
    "import pandas as pd\n",
    "import matplotlib.pyplot as plt\n",
    "import seaborn as sns"
   ]
  },
  {
   "cell_type": "code",
   "execution_count": 2,
   "id": "22d33145",
   "metadata": {},
   "outputs": [],
   "source": [
    "financial_data = pd.read_csv('/Users/maheshg/Dropbox/Sample Datasets Kaggle/FinancialNews/financial_news_events.csv')"
   ]
  },
  {
   "cell_type": "code",
   "execution_count": 3,
   "id": "eeef6c51",
   "metadata": {},
   "outputs": [
    {
     "data": {
      "text/html": [
       "<div>\n",
       "<style scoped>\n",
       "    .dataframe tbody tr th:only-of-type {\n",
       "        vertical-align: middle;\n",
       "    }\n",
       "\n",
       "    .dataframe tbody tr th {\n",
       "        vertical-align: top;\n",
       "    }\n",
       "\n",
       "    .dataframe thead th {\n",
       "        text-align: right;\n",
       "    }\n",
       "</style>\n",
       "<table border=\"1\" class=\"dataframe\">\n",
       "  <thead>\n",
       "    <tr style=\"text-align: right;\">\n",
       "      <th></th>\n",
       "      <th>Date</th>\n",
       "      <th>Headline</th>\n",
       "      <th>Source</th>\n",
       "      <th>Market_Event</th>\n",
       "      <th>Market_Index</th>\n",
       "      <th>Index_Change_Percent</th>\n",
       "      <th>Trading_Volume</th>\n",
       "      <th>Sentiment</th>\n",
       "      <th>Sector</th>\n",
       "      <th>Impact_Level</th>\n",
       "      <th>Related_Company</th>\n",
       "      <th>News_Url</th>\n",
       "    </tr>\n",
       "  </thead>\n",
       "  <tbody>\n",
       "    <tr>\n",
       "      <th>0</th>\n",
       "      <td>2025-05-21</td>\n",
       "      <td>Nikkei 225 index benefits from a weaker yen</td>\n",
       "      <td>Times of India</td>\n",
       "      <td>Commodity Price Shock</td>\n",
       "      <td>DAX</td>\n",
       "      <td>3.52</td>\n",
       "      <td>166.45</td>\n",
       "      <td>NaN</td>\n",
       "      <td>Technology</td>\n",
       "      <td>High</td>\n",
       "      <td>Goldman Sachs</td>\n",
       "      <td>https://timesofindia.indiatimes.com/business/m...</td>\n",
       "    </tr>\n",
       "    <tr>\n",
       "      <th>1</th>\n",
       "      <td>2025-05-18</td>\n",
       "      <td>Government subsidy program gives a lift to the...</td>\n",
       "      <td>Financial Times</td>\n",
       "      <td>Central Bank Meeting</td>\n",
       "      <td>Shanghai Composite</td>\n",
       "      <td>-3.39</td>\n",
       "      <td>57.61</td>\n",
       "      <td>NaN</td>\n",
       "      <td>Retail</td>\n",
       "      <td>Low</td>\n",
       "      <td>ExxonMobil</td>\n",
       "      <td>https://timesofindia.indiatimes.com/business/m...</td>\n",
       "    </tr>\n",
       "    <tr>\n",
       "      <th>2</th>\n",
       "      <td>2025-06-25</td>\n",
       "      <td>New housing data release shows a slowdown in m...</td>\n",
       "      <td>The Hindu Business Line</td>\n",
       "      <td>Consumer Confidence Report</td>\n",
       "      <td>Shanghai Composite</td>\n",
       "      <td>-0.05</td>\n",
       "      <td>403.22</td>\n",
       "      <td>Neutral</td>\n",
       "      <td>Retail</td>\n",
       "      <td>Medium</td>\n",
       "      <td>Boeing</td>\n",
       "      <td>https://www.moneycontrol.com/us-markets/sp-500</td>\n",
       "    </tr>\n",
       "    <tr>\n",
       "      <th>3</th>\n",
       "      <td>2025-07-21</td>\n",
       "      <td>Massive stock buyback program announced by a c...</td>\n",
       "      <td>The Economist</td>\n",
       "      <td>Commodity Price Shock</td>\n",
       "      <td>NSE Nifty</td>\n",
       "      <td>-2.29</td>\n",
       "      <td>100.11</td>\n",
       "      <td>Positive</td>\n",
       "      <td>Consumer Goods</td>\n",
       "      <td>Low</td>\n",
       "      <td>Samsung Electronics</td>\n",
       "      <td>https://www.cnbc.com/2025/09/automotive-indust...</td>\n",
       "    </tr>\n",
       "    <tr>\n",
       "      <th>4</th>\n",
       "      <td>2025-07-23</td>\n",
       "      <td>Government spending bill is expected to stimul...</td>\n",
       "      <td>The Motley Fool</td>\n",
       "      <td>Inflation Data Release</td>\n",
       "      <td>Nasdaq Composite</td>\n",
       "      <td>-3.97</td>\n",
       "      <td>438.22</td>\n",
       "      <td>Negative</td>\n",
       "      <td>Consumer Goods</td>\n",
       "      <td>Low</td>\n",
       "      <td>JP Morgan Chase</td>\n",
       "      <td>https://www.bloomberg.com/australia/asx-200-pe...</td>\n",
       "    </tr>\n",
       "  </tbody>\n",
       "</table>\n",
       "</div>"
      ],
      "text/plain": [
       "         Date                                           Headline  \\\n",
       "0  2025-05-21        Nikkei 225 index benefits from a weaker yen   \n",
       "1  2025-05-18  Government subsidy program gives a lift to the...   \n",
       "2  2025-06-25  New housing data release shows a slowdown in m...   \n",
       "3  2025-07-21  Massive stock buyback program announced by a c...   \n",
       "4  2025-07-23  Government spending bill is expected to stimul...   \n",
       "\n",
       "                    Source                Market_Event        Market_Index  \\\n",
       "0           Times of India       Commodity Price Shock                 DAX   \n",
       "1          Financial Times        Central Bank Meeting  Shanghai Composite   \n",
       "2  The Hindu Business Line  Consumer Confidence Report  Shanghai Composite   \n",
       "3            The Economist       Commodity Price Shock           NSE Nifty   \n",
       "4          The Motley Fool      Inflation Data Release    Nasdaq Composite   \n",
       "\n",
       "   Index_Change_Percent  Trading_Volume Sentiment          Sector  \\\n",
       "0                  3.52          166.45       NaN      Technology   \n",
       "1                 -3.39           57.61       NaN          Retail   \n",
       "2                 -0.05          403.22   Neutral          Retail   \n",
       "3                 -2.29          100.11  Positive  Consumer Goods   \n",
       "4                 -3.97          438.22  Negative  Consumer Goods   \n",
       "\n",
       "  Impact_Level      Related_Company  \\\n",
       "0         High        Goldman Sachs   \n",
       "1          Low           ExxonMobil   \n",
       "2       Medium               Boeing   \n",
       "3          Low  Samsung Electronics   \n",
       "4          Low      JP Morgan Chase   \n",
       "\n",
       "                                            News_Url  \n",
       "0  https://timesofindia.indiatimes.com/business/m...  \n",
       "1  https://timesofindia.indiatimes.com/business/m...  \n",
       "2     https://www.moneycontrol.com/us-markets/sp-500  \n",
       "3  https://www.cnbc.com/2025/09/automotive-indust...  \n",
       "4  https://www.bloomberg.com/australia/asx-200-pe...  "
      ]
     },
     "execution_count": 3,
     "metadata": {},
     "output_type": "execute_result"
    }
   ],
   "source": [
    "financial_data.head()"
   ]
  },
  {
   "cell_type": "code",
   "execution_count": 5,
   "id": "07b19a86",
   "metadata": {},
   "outputs": [],
   "source": [
    "financial_new_df = financial_data.dropna()"
   ]
  },
  {
   "cell_type": "code",
   "execution_count": 6,
   "id": "9b351330",
   "metadata": {},
   "outputs": [
    {
     "data": {
      "text/plain": [
       "Date                    0\n",
       "Headline                0\n",
       "Source                  0\n",
       "Market_Event            0\n",
       "Market_Index            0\n",
       "Index_Change_Percent    0\n",
       "Trading_Volume          0\n",
       "Sentiment               0\n",
       "Sector                  0\n",
       "Impact_Level            0\n",
       "Related_Company         0\n",
       "News_Url                0\n",
       "dtype: int64"
      ]
     },
     "execution_count": 6,
     "metadata": {},
     "output_type": "execute_result"
    }
   ],
   "source": [
    "financial_new_df.isna().sum()"
   ]
  },
  {
   "cell_type": "code",
   "execution_count": 7,
   "id": "bc07b0ca",
   "metadata": {},
   "outputs": [
    {
     "name": "stdout",
     "output_type": "stream",
     "text": [
      "Variable           Type         Data/Info\n",
      "-----------------------------------------\n",
      "financial_data     DataFrame                Date         <...>n[3024 rows x 12 columns]\n",
      "financial_new_df   DataFrame                Date         <...>n[2443 rows x 12 columns]\n",
      "np                 module       <module 'numpy' from '/Us<...>kages/numpy/__init__.py'>\n",
      "pd                 module       <module 'pandas' from '/U<...>ages/pandas/__init__.py'>\n",
      "plt                module       <module 'matplotlib.pyplo<...>es/matplotlib/pyplot.py'>\n",
      "sns                module       <module 'seaborn' from '/<...>ges/seaborn/__init__.py'>\n"
     ]
    }
   ],
   "source": [
    "%whos"
   ]
  },
  {
   "cell_type": "code",
   "execution_count": null,
   "id": "dad32b16",
   "metadata": {},
   "outputs": [],
   "source": []
  }
 ],
 "metadata": {
  "kernelspec": {
   "display_name": "study (3.9.16)",
   "language": "python",
   "name": "python3"
  },
  "language_info": {
   "codemirror_mode": {
    "name": "ipython",
    "version": 3
   },
   "file_extension": ".py",
   "mimetype": "text/x-python",
   "name": "python",
   "nbconvert_exporter": "python",
   "pygments_lexer": "ipython3",
   "version": "3.9.16"
  }
 },
 "nbformat": 4,
 "nbformat_minor": 5
}
